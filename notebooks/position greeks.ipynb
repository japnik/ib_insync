{
 "cells": [
  {
   "cell_type": "code",
   "execution_count": 1,
   "metadata": {},
   "outputs": [],
   "source": [
    "\n",
    "from ib_insync import *\n",
    "util.startLoop()"
   ]
  },
  {
   "cell_type": "code",
   "execution_count": 26,
   "metadata": {},
   "outputs": [],
   "source": [
    "import pandas as pd\n",
    "import datetime as dt\n",
    "import numpy as np"
   ]
  },
  {
   "cell_type": "code",
   "execution_count": 3,
   "metadata": {},
   "outputs": [
    {
     "data": {
      "text/plain": [
       "<IB connected to 127.0.0.1:7497 clientId=22>"
      ]
     },
     "execution_count": 3,
     "metadata": {},
     "output_type": "execute_result"
    }
   ],
   "source": [
    "ib = IB()\n",
    "ib.connect('127.0.0.1', 7497, clientId=22)"
   ]
  },
  {
   "cell_type": "code",
   "execution_count": 27,
   "metadata": {},
   "outputs": [],
   "source": [
    "#request all ticker at once in the beginning\n",
    "\n",
    "def GetCurrentPrice(contract):\n",
    "    temp_contract= contract\n",
    "    ib.qualifyContracts(temp_contract)\n",
    "    [ticker] = ib.reqTickers(temp_contract)\n",
    "    ib.sleep(1)\n",
    "    return ticker.marketPrice()\n",
    "def GetWeightedVega(tte, vega):\n",
    "    return vega\n",
    "    \n",
    "    \n",
    "def AddGreeks(contract, position, avg_cost):\n",
    "    greeks_dict = {}\n",
    "    greeks_dict['symbol'] = contract.symbol\n",
    "    \n",
    "    if contract.secType != 'OPT':\n",
    "        current_price = GetCurrentPrice(contract)\n",
    "        greeks_dict['delta'] = position\n",
    "        greeks_dict['cash_delta'] = position * current_price\n",
    "        greeks_dict['expiry'] = dt.date(1900,1,1)\n",
    "        greeks_dict['strike'] = 0\n",
    "        greeks_dict['kind'] = \"spot\"\n",
    "        greeks_dict['vega'] = 0\n",
    "        greeks_dict['gamma'] = 0\n",
    "        greeks_dict['theta'] = 0\n",
    "        greeks_dict['weighted_vega'] = 0\n",
    "        greeks_dict['cash_gamma'] = 0\n",
    "        greeks_dict['avg_cost'] = avg_cost\n",
    "        greeks_dict['current_price'] = current_price\n",
    "    else:\n",
    "        [ticker] = ib.reqTickers(contract)\n",
    "        ib.sleep(1)\n",
    "        print(ticker)\n",
    "        greeks_dict['delta'] = ticker.modelGreeks.delta\n",
    "#         print(type(position), type(ticker.modelGreeks.undPrice) , float(contract.multiplier))\n",
    "        greeks_dict['cash_delta'] = position * ticker.modelGreeks.delta * ticker.modelGreeks.undPrice * float(contract.multiplier)\n",
    "        greeks_dict['expiry'] = dt.datetime.strptime(contract.lastTradeDateOrContractMonth , '%Y%m%d').date()\n",
    "        greeks_dict['strike'] = contract.strike\n",
    "        greeks_dict['kind'] = contract.right\n",
    "        greeks_dict['vega'] = ticker.modelGreeks.vega * np.sign(position)\n",
    "        greeks_dict['gamma'] = ticker.modelGreeks.gamma\n",
    "        greeks_dict['theta'] = ticker.modelGreeks.theta\n",
    "        greeks_dict['weighted_vega'] = GetWeightedVega(ticker.modelGreeks.vega, 1)\n",
    "        greeks_dict['cash_gamma'] = position * ticker.modelGreeks.gamma * ticker.modelGreeks.undPrice * float(contract.multiplier)\n",
    "        greeks_dict['avg_cost'] = avg_cost\n",
    "        greeks_dict['current_price'] = ticker.modelGreeks.optPrice\n",
    "#     print(greeks_dict)\n",
    "    return greeks_dict\n"
   ]
  },
  {
   "cell_type": "markdown",
   "metadata": {},
   "source": [
    "### Connecting\n",
    "The main player of the whole package is the \"IB\" class. Let's create an IB instance and connect to a running TWS/IBG application:"
   ]
  },
  {
   "cell_type": "code",
   "execution_count": null,
   "metadata": {
    "scrolled": true
   },
   "outputs": [],
   "source": []
  },
  {
   "cell_type": "code",
   "execution_count": 32,
   "metadata": {},
   "outputs": [],
   "source": [
    "all_positions = ib.positions()\n",
    "all_positions_dict_list = []"
   ]
  },
  {
   "cell_type": "code",
   "execution_count": 33,
   "metadata": {},
   "outputs": [],
   "source": [
    "amc_positions = [x for x in all_positions if x.contract.symbol== 'GME']\n"
   ]
  },
  {
   "cell_type": "code",
   "execution_count": 34,
   "metadata": {},
   "outputs": [],
   "source": [
    "# amc_positions"
   ]
  },
  {
   "cell_type": "code",
   "execution_count": 38,
   "metadata": {},
   "outputs": [
    {
     "name": "stdout",
     "output_type": "stream",
     "text": [
      "Ticker(contract=Option(conId=495098693, symbol='GME', lastTradeDateOrContractMonth='20210611', strike=580.0, right='C', multiplier='100', exchange='SMART', currency='USD', localSymbol='GME   210611C00580000', tradingClass='GME'), time=datetime.datetime(2021, 6, 10, 13, 49, 33, 204575, tzinfo=datetime.timezone.utc), bid=0.22, bidSize=74, ask=0.23, askSize=6, last=0.22, lastSize=1, prevBid=0.29, prevBidSize=19, prevAsk=0.3, prevAskSize=79, prevLast=0.29, prevLastSize=12, volume=852, high=0.65, low=0.2, close=1.47, halted=0.0, bidGreeks=OptionComputation(impliedVol=4.484728544143679, delta=0.0032226983544991795, optPrice=0.2199999988079071, pvDividend=0.0, gamma=0.000134312865148688, vega=0.001305840125614341, theta=-0.2199999988079071, undPrice=275.3443908691406), askGreeks=OptionComputation(impliedVol=4.5072680056757095, delta=0.00334237473527889, optPrice=0.23000000417232513, pvDividend=0.0, gamma=0.00013822674735654647, vega=0.0013057510217148877, theta=-0.23000000417232513, undPrice=275.3443908691406), lastGreeks=OptionComputation(impliedVol=4.505480457704072, delta=0.0033329255613813503, optPrice=0.2199999988079071, pvDividend=0.0, gamma=0.00013791947058687884, vega=0.0013057579334785768, theta=-0.2199999988079071, undPrice=275.3443908691406), modelGreeks=OptionComputation(impliedVol=4.5044232830375845, delta=0.0033273338260903463, optPrice=0.06917999841211063, pvDividend=0.0, gamma=0.00013773749237751428, vega=0.0013057620337198345, theta=-0.06917999841211063, undPrice=275.3443908691406))\n",
      "Ticker(contract=Option(conId=484813650, symbol='GME', lastTradeDateOrContractMonth='20210611', strike=290.0, right='P', multiplier='100', exchange='SMART', currency='USD', localSymbol='GME   210611P00290000', tradingClass='GME'), time=datetime.datetime(2021, 6, 10, 13, 49, 35, 217756, tzinfo=datetime.timezone.utc), bid=23.35, bidSize=159, ask=24.85, askSize=3, last=23.5, lastSize=1, prevBid=18.4, prevBidSize=53, prevAsk=21.1, prevAskSize=244, prevLast=19.88, prevLastSize=5, volume=169, high=26.05, low=19.4, close=22.58, halted=0.0, bidGreeks=OptionComputation(impliedVol=1.9967280061967816, delta=-0.6533978015567492, optPrice=23.350000381469727, pvDividend=0.0, gamma=0.011489683647717233, vega=0.05840637143878169, theta=-4.745444456395528, undPrice=275.0), askGreeks=OptionComputation(impliedVol=2.214464791775237, delta=-0.6349706133120082, optPrice=25.0, pvDividend=0.0, gamma=0.010583429839799681, vega=0.058383729229340986, theta=-5.3766183674442, undPrice=275.0), lastGreeks=OptionComputation(impliedVol=2.046620610375042, delta=-0.6488718774320232, optPrice=23.5, pvDividend=0.0, gamma=0.011269671392639978, vega=0.05840134884634551, theta=-4.890128688952865, undPrice=275.0), modelGreeks=OptionComputation(impliedVol=2.066550143106372, delta=-0.6523127381123531, optPrice=22.77573056902583, pvDividend=0.0, gamma=0.011134178152840502, vega=0.058348159609302286, theta=-4.908712708677219, undPrice=274.5199890136719))\n",
      "Ticker(contract=Option(conId=484813661, symbol='GME', lastTradeDateOrContractMonth='20210611', strike=300.0, right='P', multiplier='100', exchange='SMART', currency='USD', localSymbol='GME   210611P00300000', tradingClass='GME'), time=datetime.datetime(2021, 6, 10, 13, 49, 37, 154990, tzinfo=datetime.timezone.utc), bid=30.85, bidSize=322, ask=32.95, askSize=3, last=33.0, lastSize=2, prevBid=25.0, prevBidSize=32, prevAsk=26.8, prevAskSize=22, prevLast=25.96, prevLastSize=1, volume=438, high=33.94, low=24.35, close=27.05, halted=0.0, bidGreeks=OptionComputation(impliedVol=2.01908192503588, delta=-0.7549648748271167, optPrice=30.850000381469727, pvDividend=0.0, gamma=0.009690532769975082, vega=0.05263196552569127, theta=-4.078052582966714, undPrice=274.5199890136719), askGreeks=OptionComputation(impliedVol=2.2950402083494335, delta=-0.7229190197242391, optPrice=32.95000076293945, pvDividend=0.0, gamma=0.009082620826827875, vega=0.05260456514012901, theta=-4.938694083998104, undPrice=274.5199890136719), lastGreeks=OptionComputation(impliedVol=2.0982950632225186, delta=-0.7449730944008093, optPrice=33.0, pvDividend=0.0, gamma=0.009516318409279582, vega=0.05262431821895319, theta=-4.325202272749971, undPrice=274.5199890136719), modelGreeks=OptionComputation(impliedVol=2.1423785541598126, delta=-0.7446380336776344, optPrice=30.987230448441313, pvDividend=0.0, gamma=0.009344592403273138, vega=0.05257015466595405, theta=-4.4107562026226805, undPrice=274.0))\n",
      "Ticker(contract=Option(conId=484813638, symbol='GME', lastTradeDateOrContractMonth='20210611', strike=280.0, right='P', multiplier='100', exchange='SMART', currency='USD', localSymbol='GME   210611P00280000', tradingClass='GME'), time=datetime.datetime(2021, 6, 10, 13, 49, 39, 198207, tzinfo=datetime.timezone.utc), bid=17.25, bidSize=42, ask=18.7, askSize=12, last=17.5, lastSize=1, prevBid=13.25, prevBidSize=89, prevAsk=14.3, prevAskSize=2, prevLast=14.3, volume=268, high=19.55, low=12.55, close=18.27, halted=0.0, bidGreeks=OptionComputation(impliedVol=1.9694806344693239, delta=-0.5562782261733865, optPrice=17.25, pvDividend=0.0, gamma=0.012575218388855777, vega=0.06455476449021802, theta=-5.003618371278102, undPrice=273.6499938964844), askGreeks=OptionComputation(impliedVol=2.154893970995781, delta=-0.5472325054366387, optPrice=18.700000762939453, pvDividend=0.0, gamma=0.011509221597432145, vega=0.06453333544775575, theta=-5.482430181153118, undPrice=273.6499938964844), lastGreeks=OptionComputation(impliedVol=2.05583596100922, delta=-0.5519109065894542, optPrice=17.5, pvDividend=0.0, gamma=0.012055330888301968, vega=0.06454518130086484, theta=-5.22668103544675, undPrice=273.6499938964844), modelGreeks=OptionComputation(impliedVol=2.0681461714038916, delta=-0.5505817810730419, optPrice=16.761824304373384, pvDividend=0.0, gamma=0.011982936023337516, vega=0.06455077266828724, theta=-5.26001262508551, undPrice=273.7099914550781))\n"
     ]
    }
   ],
   "source": [
    "list_of_pos_dict = []\n",
    "for position in amc_positions:\n",
    "    contract = position.contract\n",
    "    contract.exchange = 'SMART'\n",
    "    position_dict = AddGreeks(contract, position.position, position.avgCost )\n",
    "    list_of_pos_dict.append(position_dict)\n",
    "    \n"
   ]
  },
  {
   "cell_type": "code",
   "execution_count": 39,
   "metadata": {},
   "outputs": [],
   "source": [
    "df = pd.DataFrame(list_of_pos_dict)"
   ]
  },
  {
   "cell_type": "code",
   "execution_count": 40,
   "metadata": {},
   "outputs": [
    {
     "data": {
      "text/html": [
       "<div>\n",
       "<style scoped>\n",
       "    .dataframe tbody tr th:only-of-type {\n",
       "        vertical-align: middle;\n",
       "    }\n",
       "\n",
       "    .dataframe tbody tr th {\n",
       "        vertical-align: top;\n",
       "    }\n",
       "\n",
       "    .dataframe thead th {\n",
       "        text-align: right;\n",
       "    }\n",
       "</style>\n",
       "<table border=\"1\" class=\"dataframe\">\n",
       "  <thead>\n",
       "    <tr style=\"text-align: right;\">\n",
       "      <th></th>\n",
       "      <th>symbol</th>\n",
       "      <th>delta</th>\n",
       "      <th>cash_delta</th>\n",
       "      <th>expiry</th>\n",
       "      <th>strike</th>\n",
       "      <th>kind</th>\n",
       "      <th>vega</th>\n",
       "      <th>gamma</th>\n",
       "      <th>theta</th>\n",
       "      <th>weighted_vega</th>\n",
       "      <th>cash_gamma</th>\n",
       "      <th>avg_cost</th>\n",
       "      <th>current_price</th>\n",
       "    </tr>\n",
       "  </thead>\n",
       "  <tbody>\n",
       "    <tr>\n",
       "      <th>0</th>\n",
       "      <td>GME</td>\n",
       "      <td>0.003327</td>\n",
       "      <td>-824.546435</td>\n",
       "      <td>2021-06-11</td>\n",
       "      <td>580.0</td>\n",
       "      <td>C</td>\n",
       "      <td>-0.001306</td>\n",
       "      <td>0.000138</td>\n",
       "      <td>-0.069180</td>\n",
       "      <td>1</td>\n",
       "      <td>-34.132721</td>\n",
       "      <td>524.542522</td>\n",
       "      <td>0.069180</td>\n",
       "    </tr>\n",
       "    <tr>\n",
       "      <th>1</th>\n",
       "      <td>GME</td>\n",
       "      <td>-0.652313</td>\n",
       "      <td>-17907.288570</td>\n",
       "      <td>2021-06-11</td>\n",
       "      <td>290.0</td>\n",
       "      <td>P</td>\n",
       "      <td>0.058348</td>\n",
       "      <td>0.011134</td>\n",
       "      <td>-4.908713</td>\n",
       "      <td>1</td>\n",
       "      <td>305.655446</td>\n",
       "      <td>2750.757800</td>\n",
       "      <td>22.775731</td>\n",
       "    </tr>\n",
       "    <tr>\n",
       "      <th>2</th>\n",
       "      <td>GME</td>\n",
       "      <td>-0.744638</td>\n",
       "      <td>102015.410614</td>\n",
       "      <td>2021-06-11</td>\n",
       "      <td>300.0</td>\n",
       "      <td>P</td>\n",
       "      <td>-0.052570</td>\n",
       "      <td>0.009345</td>\n",
       "      <td>-4.410756</td>\n",
       "      <td>1</td>\n",
       "      <td>-1280.209159</td>\n",
       "      <td>2720.838320</td>\n",
       "      <td>30.987230</td>\n",
       "    </tr>\n",
       "    <tr>\n",
       "      <th>3</th>\n",
       "      <td>GME</td>\n",
       "      <td>-0.550582</td>\n",
       "      <td>-75349.867296</td>\n",
       "      <td>2021-06-11</td>\n",
       "      <td>280.0</td>\n",
       "      <td>P</td>\n",
       "      <td>0.064551</td>\n",
       "      <td>0.011983</td>\n",
       "      <td>-5.260013</td>\n",
       "      <td>1</td>\n",
       "      <td>1639.924658</td>\n",
       "      <td>1844.145800</td>\n",
       "      <td>16.761824</td>\n",
       "    </tr>\n",
       "  </tbody>\n",
       "</table>\n",
       "</div>"
      ],
      "text/plain": [
       "  symbol     delta     cash_delta      expiry  strike kind      vega  \\\n",
       "0    GME  0.003327    -824.546435  2021-06-11   580.0    C -0.001306   \n",
       "1    GME -0.652313  -17907.288570  2021-06-11   290.0    P  0.058348   \n",
       "2    GME -0.744638  102015.410614  2021-06-11   300.0    P -0.052570   \n",
       "3    GME -0.550582  -75349.867296  2021-06-11   280.0    P  0.064551   \n",
       "\n",
       "      gamma     theta  weighted_vega   cash_gamma     avg_cost  current_price  \n",
       "0  0.000138 -0.069180              1   -34.132721   524.542522       0.069180  \n",
       "1  0.011134 -4.908713              1   305.655446  2750.757800      22.775731  \n",
       "2  0.009345 -4.410756              1 -1280.209159  2720.838320      30.987230  \n",
       "3  0.011983 -5.260013              1  1639.924658  1844.145800      16.761824  "
      ]
     },
     "execution_count": 40,
     "metadata": {},
     "output_type": "execute_result"
    }
   ],
   "source": [
    "df"
   ]
  },
  {
   "cell_type": "code",
   "execution_count": 41,
   "metadata": {},
   "outputs": [
    {
     "data": {
      "text/plain": [
       "symbol           GMEGMEGMEGME\n",
       "delta                -1.94421\n",
       "cash_delta            7933.71\n",
       "strike                   1450\n",
       "kind                     CPPP\n",
       "vega                 0.069023\n",
       "gamma               0.0325994\n",
       "theta                -14.6487\n",
       "weighted_vega               4\n",
       "cash_gamma            631.238\n",
       "avg_cost              7840.28\n",
       "current_price          70.594\n",
       "dtype: object"
      ]
     },
     "execution_count": 41,
     "metadata": {},
     "output_type": "execute_result"
    }
   ],
   "source": [
    "df.sum()"
   ]
  },
  {
   "cell_type": "code",
   "execution_count": null,
   "metadata": {},
   "outputs": [],
   "source": []
  }
 ],
 "metadata": {
  "kernelspec": {
   "display_name": "Python 3",
   "language": "python",
   "name": "python3"
  },
  "language_info": {
   "codemirror_mode": {
    "name": "ipython",
    "version": 3
   },
   "file_extension": ".py",
   "mimetype": "text/x-python",
   "name": "python",
   "nbconvert_exporter": "python",
   "pygments_lexer": "ipython3",
   "version": "3.8.5"
  }
 },
 "nbformat": 4,
 "nbformat_minor": 4
}
