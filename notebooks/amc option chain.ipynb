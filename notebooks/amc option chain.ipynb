{
 "cells": [
  {
   "cell_type": "markdown",
   "metadata": {},
   "source": [
    "Option chains\n",
    "======="
   ]
  },
  {
   "cell_type": "code",
   "execution_count": 32,
   "metadata": {
    "scrolled": true
   },
   "outputs": [
    {
     "data": {
      "text/plain": [
       "<IB connected to 127.0.0.1:7497 clientId=29>"
      ]
     },
     "execution_count": 32,
     "metadata": {},
     "output_type": "execute_result"
    }
   ],
   "source": [
    "from ib_insync import *\n",
    "util.startLoop()\n",
    "\n",
    "ib = IB()\n",
    "ib.connect('127.0.0.1', 7497, clientId=29)"
   ]
  },
  {
   "cell_type": "code",
   "execution_count": 47,
   "metadata": {},
   "outputs": [],
   "source": [
    "amc = Stock('AMC', 'SMART', 'USD')"
   ]
  },
  {
   "cell_type": "code",
   "execution_count": 48,
   "metadata": {},
   "outputs": [
    {
     "data": {
      "text/plain": [
       "[Stock(conId=140070600, symbol='AMC', exchange='SMART', primaryExchange='NYSE', currency='USD', localSymbol='AMC', tradingClass='AMC')]"
      ]
     },
     "execution_count": 48,
     "metadata": {},
     "output_type": "execute_result"
    }
   ],
   "source": [
    "ib.qualifyContracts(amc)"
   ]
  },
  {
   "cell_type": "markdown",
   "metadata": {},
   "source": [
    "Suppose we want to find the options on the SPX, with the following conditions:\n",
    "\n",
    "* Use the next three monthly expiries;\n",
    "* Use strike prices within +- 20 dollar of the current SPX value;\n",
    "* Use strike prices that are a multitude of 5 dollar."
   ]
  },
  {
   "cell_type": "markdown",
   "metadata": {},
   "source": [
    "To get the current market value, first create a contract for the underlyer (the S&P 500 index):"
   ]
  },
  {
   "cell_type": "markdown",
   "metadata": {},
   "source": [
    "To avoid issues with market data permissions, we'll use delayed data:"
   ]
  },
  {
   "cell_type": "code",
   "execution_count": 49,
   "metadata": {},
   "outputs": [],
   "source": [
    "# ib.reqMarketDataType(4)"
   ]
  },
  {
   "cell_type": "markdown",
   "metadata": {},
   "source": [
    "Then get the ticker. Requesting a ticker can take up to 11 seconds."
   ]
  },
  {
   "cell_type": "markdown",
   "metadata": {},
   "source": [
    "Take the current market value of the ticker:"
   ]
  },
  {
   "cell_type": "markdown",
   "metadata": {},
   "source": [
    "The following request fetches a list of option chains:"
   ]
  },
  {
   "cell_type": "code",
   "execution_count": 50,
   "metadata": {},
   "outputs": [
    {
     "data": {
      "text/html": [
       "<div>\n",
       "<style scoped>\n",
       "    .dataframe tbody tr th:only-of-type {\n",
       "        vertical-align: middle;\n",
       "    }\n",
       "\n",
       "    .dataframe tbody tr th {\n",
       "        vertical-align: top;\n",
       "    }\n",
       "\n",
       "    .dataframe thead th {\n",
       "        text-align: right;\n",
       "    }\n",
       "</style>\n",
       "<table border=\"1\" class=\"dataframe\">\n",
       "  <thead>\n",
       "    <tr style=\"text-align: right;\">\n",
       "      <th></th>\n",
       "      <th>exchange</th>\n",
       "      <th>underlyingConId</th>\n",
       "      <th>tradingClass</th>\n",
       "      <th>multiplier</th>\n",
       "      <th>expirations</th>\n",
       "      <th>strikes</th>\n",
       "    </tr>\n",
       "  </thead>\n",
       "  <tbody>\n",
       "    <tr>\n",
       "      <th>0</th>\n",
       "      <td>BOX</td>\n",
       "      <td>140070600</td>\n",
       "      <td>AMC</td>\n",
       "      <td>100</td>\n",
       "      <td>[20210611, 20210618, 20210625, 20210702, 20210...</td>\n",
       "      <td>[0.5, 1.0, 1.5, 2.0, 2.5, 3.0, 3.5, 4.0, 4.5, ...</td>\n",
       "    </tr>\n",
       "    <tr>\n",
       "      <th>1</th>\n",
       "      <td>CBOE2</td>\n",
       "      <td>140070600</td>\n",
       "      <td>AMC</td>\n",
       "      <td>100</td>\n",
       "      <td>[20210611, 20210618, 20210625, 20210702, 20210...</td>\n",
       "      <td>[0.5, 1.0, 1.5, 2.0, 2.5, 3.0, 3.5, 4.0, 4.5, ...</td>\n",
       "    </tr>\n",
       "    <tr>\n",
       "      <th>2</th>\n",
       "      <td>NASDAQOM</td>\n",
       "      <td>140070600</td>\n",
       "      <td>AMC</td>\n",
       "      <td>100</td>\n",
       "      <td>[20210611, 20210618, 20210625, 20210702, 20210...</td>\n",
       "      <td>[0.5, 1.0, 1.5, 2.0, 2.5, 3.0, 3.5, 4.0, 4.5, ...</td>\n",
       "    </tr>\n",
       "    <tr>\n",
       "      <th>3</th>\n",
       "      <td>SMART</td>\n",
       "      <td>140070600</td>\n",
       "      <td>AMC</td>\n",
       "      <td>100</td>\n",
       "      <td>[20210611, 20210618, 20210625, 20210702, 20210...</td>\n",
       "      <td>[0.5, 1.0, 1.5, 2.0, 2.5, 3.0, 3.5, 4.0, 4.5, ...</td>\n",
       "    </tr>\n",
       "    <tr>\n",
       "      <th>4</th>\n",
       "      <td>PSE</td>\n",
       "      <td>140070600</td>\n",
       "      <td>AMC</td>\n",
       "      <td>100</td>\n",
       "      <td>[20210611, 20210618, 20210625, 20210702, 20210...</td>\n",
       "      <td>[0.5, 1.0, 1.5, 2.0, 2.5, 3.0, 3.5, 4.0, 4.5, ...</td>\n",
       "    </tr>\n",
       "    <tr>\n",
       "      <th>5</th>\n",
       "      <td>NASDAQBX</td>\n",
       "      <td>140070600</td>\n",
       "      <td>AMC</td>\n",
       "      <td>100</td>\n",
       "      <td>[20210611, 20210618, 20210625, 20210702, 20210...</td>\n",
       "      <td>[0.5, 1.0, 1.5, 2.0, 2.5, 3.0, 3.5, 4.0, 4.5, ...</td>\n",
       "    </tr>\n",
       "    <tr>\n",
       "      <th>6</th>\n",
       "      <td>BATS</td>\n",
       "      <td>140070600</td>\n",
       "      <td>AMC</td>\n",
       "      <td>100</td>\n",
       "      <td>[20210611, 20210618, 20210625, 20210702, 20210...</td>\n",
       "      <td>[0.5, 1.0, 1.5, 2.0, 2.5, 3.0, 3.5, 4.0, 4.5, ...</td>\n",
       "    </tr>\n",
       "    <tr>\n",
       "      <th>7</th>\n",
       "      <td>EMERALD</td>\n",
       "      <td>140070600</td>\n",
       "      <td>AMC</td>\n",
       "      <td>100</td>\n",
       "      <td>[20210611, 20210618, 20210625, 20210702, 20210...</td>\n",
       "      <td>[0.5, 1.0, 1.5, 2.0, 2.5, 3.0, 3.5, 4.0, 4.5, ...</td>\n",
       "    </tr>\n",
       "    <tr>\n",
       "      <th>8</th>\n",
       "      <td>PEARL</td>\n",
       "      <td>140070600</td>\n",
       "      <td>AMC</td>\n",
       "      <td>100</td>\n",
       "      <td>[20210611, 20210618, 20210625, 20210702, 20210...</td>\n",
       "      <td>[0.5, 1.0, 1.5, 2.0, 2.5, 3.0, 3.5, 4.0, 4.5, ...</td>\n",
       "    </tr>\n",
       "    <tr>\n",
       "      <th>9</th>\n",
       "      <td>PHLX</td>\n",
       "      <td>140070600</td>\n",
       "      <td>AMC</td>\n",
       "      <td>100</td>\n",
       "      <td>[20210611, 20210618, 20210625, 20210702, 20210...</td>\n",
       "      <td>[0.5, 1.0, 1.5, 2.0, 2.5, 3.0, 3.5, 4.0, 4.5, ...</td>\n",
       "    </tr>\n",
       "    <tr>\n",
       "      <th>10</th>\n",
       "      <td>AMEX</td>\n",
       "      <td>140070600</td>\n",
       "      <td>AMC</td>\n",
       "      <td>100</td>\n",
       "      <td>[20210611, 20210618, 20210625, 20210702, 20210...</td>\n",
       "      <td>[0.5, 1.0, 1.5, 2.0, 2.5, 3.0, 3.5, 4.0, 4.5, ...</td>\n",
       "    </tr>\n",
       "    <tr>\n",
       "      <th>11</th>\n",
       "      <td>GEMINI</td>\n",
       "      <td>140070600</td>\n",
       "      <td>AMC</td>\n",
       "      <td>100</td>\n",
       "      <td>[20210611, 20210618, 20210625, 20210702, 20210...</td>\n",
       "      <td>[0.5, 1.0, 1.5, 2.0, 2.5, 3.0, 3.5, 4.0, 4.5, ...</td>\n",
       "    </tr>\n",
       "    <tr>\n",
       "      <th>12</th>\n",
       "      <td>ISE</td>\n",
       "      <td>140070600</td>\n",
       "      <td>AMC</td>\n",
       "      <td>100</td>\n",
       "      <td>[20210611, 20210618, 20210625, 20210702, 20210...</td>\n",
       "      <td>[0.5, 1.0, 1.5, 2.0, 2.5, 3.0, 3.5, 4.0, 4.5, ...</td>\n",
       "    </tr>\n",
       "    <tr>\n",
       "      <th>13</th>\n",
       "      <td>EDGX</td>\n",
       "      <td>140070600</td>\n",
       "      <td>AMC</td>\n",
       "      <td>100</td>\n",
       "      <td>[20210611, 20210618, 20210625, 20210702, 20210...</td>\n",
       "      <td>[0.5, 1.0, 1.5, 2.0, 2.5, 3.0, 3.5, 4.0, 4.5, ...</td>\n",
       "    </tr>\n",
       "    <tr>\n",
       "      <th>14</th>\n",
       "      <td>MIAX</td>\n",
       "      <td>140070600</td>\n",
       "      <td>AMC</td>\n",
       "      <td>100</td>\n",
       "      <td>[20210611, 20210618, 20210625, 20210702, 20210...</td>\n",
       "      <td>[0.5, 1.0, 1.5, 2.0, 2.5, 3.0, 3.5, 4.0, 4.5, ...</td>\n",
       "    </tr>\n",
       "    <tr>\n",
       "      <th>15</th>\n",
       "      <td>CBOE</td>\n",
       "      <td>140070600</td>\n",
       "      <td>AMC</td>\n",
       "      <td>100</td>\n",
       "      <td>[20210611, 20210618, 20210625, 20210702, 20210...</td>\n",
       "      <td>[0.5, 1.0, 1.5, 2.0, 2.5, 3.0, 3.5, 4.0, 4.5, ...</td>\n",
       "    </tr>\n",
       "    <tr>\n",
       "      <th>16</th>\n",
       "      <td>MERCURY</td>\n",
       "      <td>140070600</td>\n",
       "      <td>AMC</td>\n",
       "      <td>100</td>\n",
       "      <td>[20210611, 20210618, 20210625, 20210702, 20210...</td>\n",
       "      <td>[0.5, 1.0, 1.5, 2.0, 2.5, 3.0, 3.5, 4.0, 4.5, ...</td>\n",
       "    </tr>\n",
       "  </tbody>\n",
       "</table>\n",
       "</div>"
      ],
      "text/plain": [
       "    exchange underlyingConId tradingClass multiplier  \\\n",
       "0        BOX       140070600          AMC        100   \n",
       "1      CBOE2       140070600          AMC        100   \n",
       "2   NASDAQOM       140070600          AMC        100   \n",
       "3      SMART       140070600          AMC        100   \n",
       "4        PSE       140070600          AMC        100   \n",
       "5   NASDAQBX       140070600          AMC        100   \n",
       "6       BATS       140070600          AMC        100   \n",
       "7    EMERALD       140070600          AMC        100   \n",
       "8      PEARL       140070600          AMC        100   \n",
       "9       PHLX       140070600          AMC        100   \n",
       "10      AMEX       140070600          AMC        100   \n",
       "11    GEMINI       140070600          AMC        100   \n",
       "12       ISE       140070600          AMC        100   \n",
       "13      EDGX       140070600          AMC        100   \n",
       "14      MIAX       140070600          AMC        100   \n",
       "15      CBOE       140070600          AMC        100   \n",
       "16   MERCURY       140070600          AMC        100   \n",
       "\n",
       "                                          expirations  \\\n",
       "0   [20210611, 20210618, 20210625, 20210702, 20210...   \n",
       "1   [20210611, 20210618, 20210625, 20210702, 20210...   \n",
       "2   [20210611, 20210618, 20210625, 20210702, 20210...   \n",
       "3   [20210611, 20210618, 20210625, 20210702, 20210...   \n",
       "4   [20210611, 20210618, 20210625, 20210702, 20210...   \n",
       "5   [20210611, 20210618, 20210625, 20210702, 20210...   \n",
       "6   [20210611, 20210618, 20210625, 20210702, 20210...   \n",
       "7   [20210611, 20210618, 20210625, 20210702, 20210...   \n",
       "8   [20210611, 20210618, 20210625, 20210702, 20210...   \n",
       "9   [20210611, 20210618, 20210625, 20210702, 20210...   \n",
       "10  [20210611, 20210618, 20210625, 20210702, 20210...   \n",
       "11  [20210611, 20210618, 20210625, 20210702, 20210...   \n",
       "12  [20210611, 20210618, 20210625, 20210702, 20210...   \n",
       "13  [20210611, 20210618, 20210625, 20210702, 20210...   \n",
       "14  [20210611, 20210618, 20210625, 20210702, 20210...   \n",
       "15  [20210611, 20210618, 20210625, 20210702, 20210...   \n",
       "16  [20210611, 20210618, 20210625, 20210702, 20210...   \n",
       "\n",
       "                                              strikes  \n",
       "0   [0.5, 1.0, 1.5, 2.0, 2.5, 3.0, 3.5, 4.0, 4.5, ...  \n",
       "1   [0.5, 1.0, 1.5, 2.0, 2.5, 3.0, 3.5, 4.0, 4.5, ...  \n",
       "2   [0.5, 1.0, 1.5, 2.0, 2.5, 3.0, 3.5, 4.0, 4.5, ...  \n",
       "3   [0.5, 1.0, 1.5, 2.0, 2.5, 3.0, 3.5, 4.0, 4.5, ...  \n",
       "4   [0.5, 1.0, 1.5, 2.0, 2.5, 3.0, 3.5, 4.0, 4.5, ...  \n",
       "5   [0.5, 1.0, 1.5, 2.0, 2.5, 3.0, 3.5, 4.0, 4.5, ...  \n",
       "6   [0.5, 1.0, 1.5, 2.0, 2.5, 3.0, 3.5, 4.0, 4.5, ...  \n",
       "7   [0.5, 1.0, 1.5, 2.0, 2.5, 3.0, 3.5, 4.0, 4.5, ...  \n",
       "8   [0.5, 1.0, 1.5, 2.0, 2.5, 3.0, 3.5, 4.0, 4.5, ...  \n",
       "9   [0.5, 1.0, 1.5, 2.0, 2.5, 3.0, 3.5, 4.0, 4.5, ...  \n",
       "10  [0.5, 1.0, 1.5, 2.0, 2.5, 3.0, 3.5, 4.0, 4.5, ...  \n",
       "11  [0.5, 1.0, 1.5, 2.0, 2.5, 3.0, 3.5, 4.0, 4.5, ...  \n",
       "12  [0.5, 1.0, 1.5, 2.0, 2.5, 3.0, 3.5, 4.0, 4.5, ...  \n",
       "13  [0.5, 1.0, 1.5, 2.0, 2.5, 3.0, 3.5, 4.0, 4.5, ...  \n",
       "14  [0.5, 1.0, 1.5, 2.0, 2.5, 3.0, 3.5, 4.0, 4.5, ...  \n",
       "15  [0.5, 1.0, 1.5, 2.0, 2.5, 3.0, 3.5, 4.0, 4.5, ...  \n",
       "16  [0.5, 1.0, 1.5, 2.0, 2.5, 3.0, 3.5, 4.0, 4.5, ...  "
      ]
     },
     "execution_count": 50,
     "metadata": {},
     "output_type": "execute_result"
    }
   ],
   "source": [
    "chains = ib.reqSecDefOptParams(amc.symbol, '', amc.secType, amc.conId)\n",
    "\n",
    "util.df(chains)"
   ]
  },
  {
   "cell_type": "markdown",
   "metadata": {},
   "source": [
    "These are four option chains that differ in ``exchange`` and ``tradingClass``. The latter is 'SPX' for the monthly and  'SPXW' for the weekly options. Note that the weekly expiries are disjoint from the monthly ones, so when interested in the weekly options the monthly options can be added as well.\n",
    "\n",
    "In this case we're only interested in the monthly options trading on SMART:"
   ]
  },
  {
   "cell_type": "code",
   "execution_count": 51,
   "metadata": {},
   "outputs": [
    {
     "data": {
      "text/plain": [
       "OptionChain(exchange='SMART', underlyingConId='140070600', tradingClass='AMC', multiplier='100', expirations=['20210611', '20210618', '20210625', '20210702', '20210709', '20210716', '20210723', '20210820', '20210917', '20211217', '20220121', '20220715', '20230120'], strikes=[0.5, 1.0, 1.5, 2.0, 2.5, 3.0, 3.5, 4.0, 4.5, 5.0, 5.5, 6.0, 6.5, 7.0, 7.5, 8.0, 8.5, 9.0, 9.5, 10.0, 10.5, 11.0, 11.5, 12.0, 12.5, 13.0, 13.5, 14.0, 14.5, 15.0, 15.5, 16.0, 16.5, 17.0, 17.5, 18.0, 18.5, 19.0, 19.5, 20.0, 20.5, 21.0, 21.5, 22.0, 22.5, 23.0, 23.5, 24.0, 24.5, 25.0, 26.0, 27.0, 28.0, 29.0, 30.0, 31.0, 32.0, 33.0, 34.0, 35.0, 36.0, 37.0, 38.0, 39.0, 40.0, 41.0, 42.0, 43.0, 44.0, 45.0, 46.0, 47.0, 48.0, 49.0, 50.0, 51.0, 52.0, 53.0, 54.0, 55.0, 56.0, 57.0, 57.5, 58.0, 58.5, 59.0, 59.5, 60.0, 60.5, 61.0, 61.5, 62.0, 62.5, 63.0, 63.5, 64.0, 64.5, 65.0, 65.5, 66.0, 66.5, 67.0, 67.5, 68.0, 68.5, 69.0, 69.5, 70.0, 71.0, 72.0, 73.0, 74.0, 75.0, 76.0, 77.0, 78.0, 79.0, 80.0, 81.0, 82.0, 83.0, 84.0, 85.0, 90.0, 95.0, 100.0, 105.0, 110.0, 115.0, 120.0, 125.0, 130.0, 135.0, 140.0, 145.0])"
      ]
     },
     "execution_count": 51,
     "metadata": {},
     "output_type": "execute_result"
    }
   ],
   "source": [
    "chain = next(c for c in chains if c.tradingClass == 'AMC' and c.exchange == 'SMART')\n",
    "chain\n",
    "\n",
    "# What we have here is the full matrix of expirations x strikes. From this we can build all the option contracts that meet our conditions:"
   ]
  },
  {
   "cell_type": "code",
   "execution_count": 52,
   "metadata": {},
   "outputs": [
    {
     "data": {
      "text/plain": [
       "48"
      ]
     },
     "execution_count": 52,
     "metadata": {},
     "output_type": "execute_result"
    }
   ],
   "source": [
    "strikes = [strike for strike in chain.strikes\n",
    "        if strike % 5 == 0\n",
    "        and amcValue - 20 < strike < amcValue + 20]\n",
    "expirations = sorted(exp for exp in chain.expirations)[:3]\n",
    "rights = ['P', 'C']\n",
    "\n",
    "contracts = [Option('AMC', expiration, strike, right, 'SMART', tradingClass='AMC')\n",
    "        for right in rights\n",
    "        for expiration in expirations\n",
    "        for strike in strikes]\n",
    "\n",
    "contracts = ib.qualifyContracts(*contracts)\n",
    "len(contracts)"
   ]
  },
  {
   "cell_type": "code",
   "execution_count": 53,
   "metadata": {},
   "outputs": [
    {
     "data": {
      "text/plain": [
       "str"
      ]
     },
     "execution_count": 53,
     "metadata": {},
     "output_type": "execute_result"
    }
   ],
   "source": [
    "type(expirations[0])"
   ]
  },
  {
   "cell_type": "code",
   "execution_count": 54,
   "metadata": {},
   "outputs": [
    {
     "data": {
      "text/plain": [
       "Option(conId=495048553, symbol='AMC', lastTradeDateOrContractMonth='20210611', strike=75.0, right='P', multiplier='100', exchange='SMART', currency='USD', localSymbol='AMC   210611P00075000', tradingClass='AMC')"
      ]
     },
     "execution_count": 54,
     "metadata": {},
     "output_type": "execute_result"
    }
   ],
   "source": [
    "contracts[0]"
   ]
  },
  {
   "cell_type": "markdown",
   "metadata": {},
   "source": [
    "Now to get the market data for all options in one go:"
   ]
  },
  {
   "cell_type": "code",
   "execution_count": 55,
   "metadata": {},
   "outputs": [
    {
     "data": {
      "text/plain": [
       "Ticker(contract=Option(conId=495048553, symbol='AMC', lastTradeDateOrContractMonth='20210611', strike=75.0, right='P', multiplier='100', exchange='SMART', currency='USD', localSymbol='AMC   210611P00075000', tradingClass='AMC'), time=datetime.datetime(2021, 6, 7, 1, 46, 17, 105575, tzinfo=datetime.timezone.utc))"
      ]
     },
     "execution_count": 55,
     "metadata": {},
     "output_type": "execute_result"
    }
   ],
   "source": [
    "tickers = ib.reqTickers(*contracts)\n",
    "\n",
    "tickers[0]"
   ]
  },
  {
   "cell_type": "code",
   "execution_count": 56,
   "metadata": {},
   "outputs": [],
   "source": [
    "a = ib.positions()\n",
    "option_positions = [x for x in a if x.contract.secType== 'OPT']\n",
    "option_positions_dict = {}\n",
    "for option_position in option_positions:\n",
    "    option_positions_dict[option_position.contract] = option_position.position\n"
   ]
  },
  {
   "cell_type": "code",
   "execution_count": 57,
   "metadata": {},
   "outputs": [
    {
     "data": {
      "text/plain": [
       "Option(conId=494401891, symbol='AMC', lastTradeDateOrContractMonth='20210618', strike=73.0, right='C', multiplier='100', currency='USD', localSymbol='AMC   210618C00073000', tradingClass='AMC')"
      ]
     },
     "execution_count": 57,
     "metadata": {},
     "output_type": "execute_result"
    }
   ],
   "source": [
    "option_positions[0].contract"
   ]
  },
  {
   "cell_type": "code",
   "execution_count": null,
   "metadata": {},
   "outputs": [],
   "source": []
  },
  {
   "cell_type": "code",
   "execution_count": 61,
   "metadata": {},
   "outputs": [
    {
     "name": "stdout",
     "output_type": "stream",
     "text": [
      "[Ticker(contract=Option(conId=494401891, symbol='AMC', lastTradeDateOrContractMonth='20210618', strike=73.0, right='C', multiplier='100', exchange='SMART', currency='USD', localSymbol='AMC   210618C00073000', tradingClass='AMC'), time=datetime.datetime(2021, 6, 7, 1, 48, 12, 463222, tzinfo=datetime.timezone.utc), bid=-1.0, bidSize=0, ask=-1.0, askSize=0, close=13.64, halted=0.0)]\n",
      "[Ticker(contract=Option(conId=468140064, symbol='AMC', lastTradeDateOrContractMonth='20210618', strike=30.0, right='P', multiplier='100', exchange='SMART', currency='USD', localSymbol='AMC   210618P00030000', tradingClass='AMC'), time=datetime.datetime(2021, 6, 7, 1, 48, 24, 234882, tzinfo=datetime.timezone.utc), bid=-1.0, bidSize=0, ask=-1.0, askSize=0, close=4.75, halted=0.0)]\n",
      "[Ticker(contract=Option(conId=494402696, symbol='AMC', lastTradeDateOrContractMonth='20210716', strike=60.0, right='C', multiplier='100', exchange='SMART', currency='USD', localSymbol='AMC   210716C00060000', tradingClass='AMC'), time=datetime.datetime(2021, 6, 7, 1, 48, 35, 750165, tzinfo=datetime.timezone.utc), bid=-1.0, bidSize=0, ask=-1.0, askSize=0, close=20.8, halted=0.0)]\n",
      "[Ticker(contract=Option(conId=495048824, symbol='AMC', lastTradeDateOrContractMonth='20210618', strike=145.0, right='C', multiplier='100', exchange='SMART', currency='USD', localSymbol='AMC   210618C00145000', tradingClass='AMC'), time=datetime.datetime(2021, 6, 7, 1, 48, 48, 149360, tzinfo=datetime.timezone.utc), bid=-1.0, bidSize=0, ask=-1.0, askSize=0, close=7.62, halted=0.0)]\n",
      "[Ticker(contract=Option(conId=491441066, symbol='ROKU', lastTradeDateOrContractMonth='20210917', strike=260.0, right='P', multiplier='100', exchange='SMART', currency='USD', localSymbol='ROKU  210917P00260000', tradingClass='ROKU'), time=datetime.datetime(2021, 6, 7, 1, 48, 59, 766495, tzinfo=datetime.timezone.utc), bid=-1.0, bidSize=0, ask=-1.0, askSize=0, close=11.1, halted=0.0)]\n",
      "[Ticker(contract=Option(conId=495051300, symbol='AMC', lastTradeDateOrContractMonth='20210716', strike=145.0, right='C', multiplier='100', exchange='SMART', currency='USD', localSymbol='AMC   210716C00145000', tradingClass='AMC'), time=datetime.datetime(2021, 6, 7, 1, 49, 11, 768946, tzinfo=datetime.timezone.utc), bid=-1.0, bidSize=0, ask=-1.0, askSize=0, close=13.25, halted=0.0)]\n"
     ]
    }
   ],
   "source": [
    "for (contract, position) in option_positions_dict.items():\n",
    "    contract_new = Option(contract.symbol,contract.lastTradeDateOrContractMonth, \n",
    "                          contract.strike,contract.right,\n",
    "                          exchange = 'SMART', tradingClass = contract.tradingClass)\n",
    "    ib.qualifyContracts(contract_new)\n",
    "    ticker = ib.reqTickers(contract_new)\n",
    "    print(ticker)"
   ]
  },
  {
   "cell_type": "code",
   "execution_count": 62,
   "metadata": {
    "scrolled": true
   },
   "outputs": [],
   "source": [
    "tickers = ib.reqTickers(*contracts)\n",
    "\n"
   ]
  },
  {
   "cell_type": "code",
   "execution_count": 64,
   "metadata": {
    "scrolled": true
   },
   "outputs": [
    {
     "data": {
      "text/plain": [
       "Ticker(contract=Option(conId=495048553, symbol='AMC', lastTradeDateOrContractMonth='20210611', strike=75.0, right='P', multiplier='100', exchange='SMART', currency='USD', localSymbol='AMC   210611P00075000', tradingClass='AMC'), time=datetime.datetime(2021, 6, 7, 1, 49, 24, 61553, tzinfo=datetime.timezone.utc), close=33.17, halted=0.0)"
      ]
     },
     "execution_count": 64,
     "metadata": {},
     "output_type": "execute_result"
    },
    {
     "name": "stderr",
     "output_type": "stream",
     "text": [
      "Peer closed connection.\n",
      "Peer closed connection.\n",
      "Peer closed connection.\n"
     ]
    }
   ],
   "source": [
    "tickers[0]"
   ]
  },
  {
   "cell_type": "code",
   "execution_count": 16,
   "metadata": {},
   "outputs": [
    {
     "data": {
      "text/plain": [
       "Option(conId=458065953, symbol='SPX', lastTradeDateOrContractMonth='20210617', strike=4175.0, right='P', multiplier='100', exchange='SMART', currency='USD', localSymbol='SPX   210618P04175000', tradingClass='SPX')"
      ]
     },
     "execution_count": 16,
     "metadata": {},
     "output_type": "execute_result"
    }
   ],
   "source": [
    "a = contracts[0]\n",
    "a"
   ]
  },
  {
   "cell_type": "markdown",
   "metadata": {},
   "source": [
    "The option greeks are available from the ``modelGreeks`` attribute, and if there is a bid, ask resp. last price available also from ``bidGreeks``, ``askGreeks`` and ``lastGreeks``. For streaming ticks the greek values will be kept up to date to the current market situation."
   ]
  },
  {
   "cell_type": "code",
   "execution_count": 11,
   "metadata": {},
   "outputs": [],
   "source": [
    "ib.disconnect()"
   ]
  }
 ],
 "metadata": {
  "kernelspec": {
   "display_name": "Python 3",
   "language": "python",
   "name": "python3"
  },
  "language_info": {
   "codemirror_mode": {
    "name": "ipython",
    "version": 3
   },
   "file_extension": ".py",
   "mimetype": "text/x-python",
   "name": "python",
   "nbconvert_exporter": "python",
   "pygments_lexer": "ipython3",
   "version": "3.8.5"
  }
 },
 "nbformat": 4,
 "nbformat_minor": 4
}
