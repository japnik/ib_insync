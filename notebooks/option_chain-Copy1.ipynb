{
 "cells": [
  {
   "cell_type": "markdown",
   "metadata": {},
   "source": [
    "Option chains\n",
    "======="
   ]
  },
  {
   "cell_type": "code",
   "execution_count": 3,
   "metadata": {
    "scrolled": true
   },
   "outputs": [
    {
     "data": {
      "text/plain": [
       "<IB connected to 127.0.0.1:7497 clientId=23>"
      ]
     },
     "execution_count": 3,
     "metadata": {},
     "output_type": "execute_result"
    }
   ],
   "source": [
    "from ib_insync import *\n",
    "util.startLoop()\n",
    "\n",
    "ib = IB()\n",
    "ib.connect('127.0.0.1', 7497, clientId=23)"
   ]
  },
  {
   "cell_type": "code",
   "execution_count": 7,
   "metadata": {},
   "outputs": [],
   "source": [
    "a = ib.positions()\n",
    "option_positions = [x for x in a if x.contract.secType== 'OPT']\n",
    "option_positions_dict = {}\n",
    "for option_position in option_positions:\n",
    "    option_positions_dict[option_position.contract] = option_position.position\n"
   ]
  },
  {
   "cell_type": "code",
   "execution_count": 14,
   "metadata": {
    "scrolled": true
   },
   "outputs": [
    {
     "name": "stdout",
     "output_type": "stream",
     "text": [
      "AMC 20210618 73.0 C SMART AMC\n",
      "0.45727501449317826\n",
      "AMC 20210618 30.0 P SMART AMC\n",
      "-0.15338782289153807\n",
      "AMC 20210716 60.0 C SMART AMC\n",
      "0.6349186852540254\n",
      "AMC 20210618 145.0 C SMART AMC\n",
      "0.21123109540346766\n",
      "ROKU 20210917 260.0 P SMART ROKU\n"
     ]
    },
    {
     "ename": "AttributeError",
     "evalue": "'NoneType' object has no attribute 'delta'",
     "output_type": "error",
     "traceback": [
      "\u001b[1;31m---------------------------------------------------------------------------\u001b[0m",
      "\u001b[1;31mAttributeError\u001b[0m                            Traceback (most recent call last)",
      "\u001b[1;32m<ipython-input-14-ef5bc0a46dea>\u001b[0m in \u001b[0;36m<module>\u001b[1;34m\u001b[0m\n\u001b[0;32m     11\u001b[0m \u001b[1;33m\u001b[0m\u001b[0m\n\u001b[0;32m     12\u001b[0m     \u001b[1;33m[\u001b[0m\u001b[0mticker\u001b[0m\u001b[1;33m]\u001b[0m \u001b[1;33m=\u001b[0m \u001b[0mib\u001b[0m\u001b[1;33m.\u001b[0m\u001b[0mreqTickers\u001b[0m\u001b[1;33m(\u001b[0m\u001b[0mcontract_new\u001b[0m\u001b[1;33m)\u001b[0m\u001b[1;33m\u001b[0m\u001b[1;33m\u001b[0m\u001b[0m\n\u001b[1;32m---> 13\u001b[1;33m     \u001b[0mprint\u001b[0m\u001b[1;33m(\u001b[0m\u001b[0mticker\u001b[0m\u001b[1;33m.\u001b[0m\u001b[0mmodelGreeks\u001b[0m\u001b[1;33m.\u001b[0m\u001b[0mdelta\u001b[0m\u001b[1;33m)\u001b[0m\u001b[1;33m\u001b[0m\u001b[1;33m\u001b[0m\u001b[0m\n\u001b[0m",
      "\u001b[1;31mAttributeError\u001b[0m: 'NoneType' object has no attribute 'delta'"
     ]
    },
    {
     "name": "stderr",
     "output_type": "stream",
     "text": [
      "Error 1100, reqId -1: Connectivity between IB and Trader Workstation has been lost.\n"
     ]
    }
   ],
   "source": [
    "for (contract, position) in option_positions_dict.items():\n",
    "    print(contract.symbol,contract.lastTradeDateOrContractMonth, \n",
    "                          contract.strike,contract.right,\n",
    "                          'SMART', contract.tradingClass)\n",
    "    contract_new = Option(contract.symbol,contract.lastTradeDateOrContractMonth, \n",
    "                          contract.strike,contract.right,\n",
    "                          'SMART', tradingClass = contract.tradingClass)\n",
    "#     contract_new = Option('AMC', '20210618', '145', 'C', 'SMART', tradingClass='AMC')\n",
    "#     ib.qualifyContracts(spx)\n",
    "    ib.qualifyContracts(contract_new)\n",
    "    \n",
    "    [ticker] = ib.reqTickers(contract_new)\n",
    "    print(ticker.modelGreeks.delta)"
   ]
  },
  {
   "cell_type": "markdown",
   "metadata": {},
   "source": [
    "Suppose we want to find the options on the SPX, with the following conditions:\n",
    "\n",
    "* Use the next three monthly expiries;\n",
    "* Use strike prices within +- 20 dollar of the current SPX value;\n",
    "* Use strike prices that are a multitude of 5 dollar."
   ]
  },
  {
   "cell_type": "markdown",
   "metadata": {},
   "source": [
    "To get the current market value, first create a contract for the underlyer (the S&P 500 index):"
   ]
  },
  {
   "cell_type": "code",
   "execution_count": 4,
   "metadata": {},
   "outputs": [
    {
     "data": {
      "text/plain": [
       "[Option(conId=495048824, symbol='AMC', lastTradeDateOrContractMonth='20210618', strike=145.0, right='C', multiplier='100', exchange='SMART', currency='USD', localSymbol='AMC   210618C00145000', tradingClass='AMC')]"
      ]
     },
     "execution_count": 4,
     "metadata": {},
     "output_type": "execute_result"
    }
   ],
   "source": [
    "spx = Option('AMC', '20210618', '145', 'C', 'SMART', tradingClass='AMC')\n",
    "ib.qualifyContracts(spx)"
   ]
  },
  {
   "cell_type": "markdown",
   "metadata": {},
   "source": [
    "To avoid issues with market data permissions, we'll use delayed data:"
   ]
  },
  {
   "cell_type": "code",
   "execution_count": 5,
   "metadata": {},
   "outputs": [],
   "source": [
    "ib.reqMarketDataType(4)"
   ]
  },
  {
   "cell_type": "markdown",
   "metadata": {},
   "source": [
    "Then get the ticker. Requesting a ticker can take up to 11 seconds."
   ]
  },
  {
   "cell_type": "code",
   "execution_count": 6,
   "metadata": {},
   "outputs": [
    {
     "data": {
      "text/plain": [
       "Ticker(contract=Option(conId=495048824, symbol='AMC', lastTradeDateOrContractMonth='20210618', strike=145.0, right='C', multiplier='100', exchange='SMART', currency='USD', localSymbol='AMC   210618C00145000', tradingClass='AMC'), time=datetime.datetime(2021, 6, 6, 19, 40, 11, 347770, tzinfo=datetime.timezone.utc), bid=-1.0, bidSize=0, ask=-1.0, askSize=0, close=7.62, halted=0.0, bidGreeks=OptionComputation(impliedVol=None, delta=None, optPrice=4.75, pvDividend=0.0, gamma=None, vega=None, theta=None, undPrice=None), askGreeks=OptionComputation(impliedVol=None, delta=None, optPrice=4.800000190734863, pvDividend=0.0, gamma=None, vega=None, theta=None, undPrice=None), lastGreeks=OptionComputation(impliedVol=4.920917874649643, delta=0.2124163512585574, optPrice=4.760000228881836, pvDividend=0.0, gamma=0.006777892242864399, vega=0.023433621654397552, theta=-0.5178497739815338, undPrice=None), modelGreeks=OptionComputation(impliedVol=4.909418598919583, delta=0.21134981274024725, optPrice=3.5454785692533215, pvDividend=0.0, gamma=0.006772744598896939, vega=0.023443808100862995, theta=-0.5150297830690983, undPrice=None))"
      ]
     },
     "execution_count": 6,
     "metadata": {},
     "output_type": "execute_result"
    }
   ],
   "source": [
    "[ticker] = ib.reqTickers(spx)\n",
    "ticker"
   ]
  },
  {
   "cell_type": "markdown",
   "metadata": {},
   "source": [
    "Take the current market value of the ticker:"
   ]
  },
  {
   "cell_type": "code",
   "execution_count": 5,
   "metadata": {},
   "outputs": [
    {
     "data": {
      "text/plain": [
       "4192.85"
      ]
     },
     "execution_count": 5,
     "metadata": {},
     "output_type": "execute_result"
    }
   ],
   "source": [
    "spxValue = ticker.marketPrice()\n",
    "spxValue"
   ]
  },
  {
   "cell_type": "markdown",
   "metadata": {},
   "source": [
    "The following request fetches a list of option chains:"
   ]
  },
  {
   "cell_type": "code",
   "execution_count": 6,
   "metadata": {},
   "outputs": [
    {
     "data": {
      "text/html": [
       "<div>\n",
       "<style scoped>\n",
       "    .dataframe tbody tr th:only-of-type {\n",
       "        vertical-align: middle;\n",
       "    }\n",
       "\n",
       "    .dataframe tbody tr th {\n",
       "        vertical-align: top;\n",
       "    }\n",
       "\n",
       "    .dataframe thead th {\n",
       "        text-align: right;\n",
       "    }\n",
       "</style>\n",
       "<table border=\"1\" class=\"dataframe\">\n",
       "  <thead>\n",
       "    <tr style=\"text-align: right;\">\n",
       "      <th></th>\n",
       "      <th>exchange</th>\n",
       "      <th>underlyingConId</th>\n",
       "      <th>tradingClass</th>\n",
       "      <th>multiplier</th>\n",
       "      <th>expirations</th>\n",
       "      <th>strikes</th>\n",
       "    </tr>\n",
       "  </thead>\n",
       "  <tbody>\n",
       "    <tr>\n",
       "      <th>0</th>\n",
       "      <td>SMART</td>\n",
       "      <td>416904</td>\n",
       "      <td>SPX</td>\n",
       "      <td>100</td>\n",
       "      <td>[20210617, 20210715, 20210819, 20210916, 20211...</td>\n",
       "      <td>[100.0, 200.0, 300.0, 400.0, 500.0, 600.0, 700...</td>\n",
       "    </tr>\n",
       "    <tr>\n",
       "      <th>1</th>\n",
       "      <td>CBOE</td>\n",
       "      <td>416904</td>\n",
       "      <td>SPXW</td>\n",
       "      <td>100</td>\n",
       "      <td>[20210607, 20210609, 20210611, 20210614, 20210...</td>\n",
       "      <td>[100.0, 200.0, 300.0, 400.0, 500.0, 600.0, 700...</td>\n",
       "    </tr>\n",
       "    <tr>\n",
       "      <th>2</th>\n",
       "      <td>SMART</td>\n",
       "      <td>416904</td>\n",
       "      <td>SPXW</td>\n",
       "      <td>100</td>\n",
       "      <td>[20210607, 20210609, 20210611, 20210614, 20210...</td>\n",
       "      <td>[100.0, 200.0, 300.0, 400.0, 500.0, 600.0, 700...</td>\n",
       "    </tr>\n",
       "    <tr>\n",
       "      <th>3</th>\n",
       "      <td>CBOE</td>\n",
       "      <td>416904</td>\n",
       "      <td>SPX</td>\n",
       "      <td>100</td>\n",
       "      <td>[20210617, 20210715, 20210819, 20210916, 20211...</td>\n",
       "      <td>[100.0, 200.0, 300.0, 400.0, 500.0, 600.0, 700...</td>\n",
       "    </tr>\n",
       "  </tbody>\n",
       "</table>\n",
       "</div>"
      ],
      "text/plain": [
       "  exchange underlyingConId tradingClass multiplier  \\\n",
       "0    SMART          416904          SPX        100   \n",
       "1     CBOE          416904         SPXW        100   \n",
       "2    SMART          416904         SPXW        100   \n",
       "3     CBOE          416904          SPX        100   \n",
       "\n",
       "                                         expirations  \\\n",
       "0  [20210617, 20210715, 20210819, 20210916, 20211...   \n",
       "1  [20210607, 20210609, 20210611, 20210614, 20210...   \n",
       "2  [20210607, 20210609, 20210611, 20210614, 20210...   \n",
       "3  [20210617, 20210715, 20210819, 20210916, 20211...   \n",
       "\n",
       "                                             strikes  \n",
       "0  [100.0, 200.0, 300.0, 400.0, 500.0, 600.0, 700...  \n",
       "1  [100.0, 200.0, 300.0, 400.0, 500.0, 600.0, 700...  \n",
       "2  [100.0, 200.0, 300.0, 400.0, 500.0, 600.0, 700...  \n",
       "3  [100.0, 200.0, 300.0, 400.0, 500.0, 600.0, 700...  "
      ]
     },
     "execution_count": 6,
     "metadata": {},
     "output_type": "execute_result"
    }
   ],
   "source": [
    "chains = ib.reqSecDefOptParams(spx.symbol, '', spx.secType, spx.conId)\n",
    "\n",
    "util.df(chains)"
   ]
  },
  {
   "cell_type": "markdown",
   "metadata": {},
   "source": [
    "These are four option chains that differ in ``exchange`` and ``tradingClass``. The latter is 'SPX' for the monthly and  'SPXW' for the weekly options. Note that the weekly expiries are disjoint from the monthly ones, so when interested in the weekly options the monthly options can be added as well.\n",
    "\n",
    "In this case we're only interested in the monthly options trading on SMART:"
   ]
  },
  {
   "cell_type": "code",
   "execution_count": 7,
   "metadata": {},
   "outputs": [
    {
     "data": {
      "text/plain": [
       "OptionChain(exchange='SMART', underlyingConId='416904', tradingClass='SPX', multiplier='100', expirations=['20210617', '20210715', '20210819', '20210916', '20211014', '20211118', '20211216', '20220120', '20220217', '20220317', '20220413', '20220519', '20220616', '20221215', '20231214'], strikes=[100.0, 200.0, 300.0, 400.0, 500.0, 600.0, 700.0, 800.0, 900.0, 1000.0, 1100.0, 1150.0, 1200.0, 1225.0, 1250.0, 1275.0, 1300.0, 1325.0, 1350.0, 1375.0, 1400.0, 1425.0, 1450.0, 1475.0, 1500.0, 1525.0, 1550.0, 1575.0, 1600.0, 1625.0, 1650.0, 1675.0, 1700.0, 1725.0, 1750.0, 1775.0, 1800.0, 1825.0, 1850.0, 1875.0, 1900.0, 1925.0, 1950.0, 1975.0, 2000.0, 2025.0, 2050.0, 2075.0, 2100.0, 2125.0, 2150.0, 2175.0, 2200.0, 2225.0, 2250.0, 2275.0, 2300.0, 2325.0, 2350.0, 2375.0, 2400.0, 2425.0, 2450.0, 2475.0, 2500.0, 2525.0, 2550.0, 2575.0, 2590.0, 2600.0, 2610.0, 2620.0, 2625.0, 2630.0, 2640.0, 2650.0, 2660.0, 2670.0, 2675.0, 2680.0, 2690.0, 2700.0, 2710.0, 2720.0, 2725.0, 2730.0, 2740.0, 2750.0, 2760.0, 2770.0, 2775.0, 2780.0, 2790.0, 2800.0, 2810.0, 2820.0, 2825.0, 2830.0, 2840.0, 2850.0, 2860.0, 2870.0, 2875.0, 2880.0, 2890.0, 2900.0, 2910.0, 2920.0, 2925.0, 2930.0, 2940.0, 2950.0, 2960.0, 2970.0, 2975.0, 2980.0, 2990.0, 2995.0, 3000.0, 3005.0, 3010.0, 3015.0, 3020.0, 3025.0, 3030.0, 3035.0, 3040.0, 3045.0, 3050.0, 3055.0, 3060.0, 3065.0, 3070.0, 3075.0, 3080.0, 3085.0, 3090.0, 3095.0, 3100.0, 3105.0, 3110.0, 3115.0, 3120.0, 3125.0, 3130.0, 3135.0, 3140.0, 3145.0, 3150.0, 3155.0, 3160.0, 3165.0, 3170.0, 3175.0, 3180.0, 3185.0, 3190.0, 3195.0, 3200.0, 3205.0, 3210.0, 3215.0, 3220.0, 3225.0, 3230.0, 3235.0, 3240.0, 3245.0, 3250.0, 3255.0, 3260.0, 3265.0, 3270.0, 3275.0, 3280.0, 3285.0, 3290.0, 3295.0, 3300.0, 3305.0, 3310.0, 3315.0, 3320.0, 3325.0, 3330.0, 3335.0, 3340.0, 3345.0, 3350.0, 3355.0, 3360.0, 3365.0, 3370.0, 3375.0, 3380.0, 3385.0, 3390.0, 3395.0, 3400.0, 3405.0, 3410.0, 3415.0, 3420.0, 3425.0, 3430.0, 3435.0, 3440.0, 3445.0, 3450.0, 3455.0, 3460.0, 3465.0, 3470.0, 3475.0, 3480.0, 3485.0, 3490.0, 3495.0, 3500.0, 3505.0, 3510.0, 3515.0, 3520.0, 3525.0, 3530.0, 3535.0, 3540.0, 3545.0, 3550.0, 3555.0, 3560.0, 3565.0, 3570.0, 3575.0, 3580.0, 3585.0, 3590.0, 3595.0, 3600.0, 3605.0, 3610.0, 3615.0, 3620.0, 3625.0, 3630.0, 3635.0, 3640.0, 3645.0, 3650.0, 3655.0, 3660.0, 3665.0, 3670.0, 3675.0, 3680.0, 3685.0, 3690.0, 3695.0, 3700.0, 3705.0, 3710.0, 3715.0, 3720.0, 3725.0, 3730.0, 3735.0, 3740.0, 3745.0, 3750.0, 3755.0, 3760.0, 3765.0, 3770.0, 3775.0, 3780.0, 3785.0, 3790.0, 3795.0, 3800.0, 3805.0, 3810.0, 3815.0, 3820.0, 3825.0, 3830.0, 3835.0, 3840.0, 3845.0, 3850.0, 3855.0, 3860.0, 3865.0, 3870.0, 3875.0, 3880.0, 3885.0, 3890.0, 3895.0, 3900.0, 3905.0, 3910.0, 3915.0, 3920.0, 3925.0, 3930.0, 3935.0, 3940.0, 3945.0, 3950.0, 3955.0, 3960.0, 3965.0, 3970.0, 3975.0, 3980.0, 3985.0, 3990.0, 3995.0, 4000.0, 4005.0, 4010.0, 4015.0, 4020.0, 4025.0, 4030.0, 4035.0, 4040.0, 4045.0, 4050.0, 4055.0, 4060.0, 4065.0, 4070.0, 4075.0, 4080.0, 4085.0, 4090.0, 4095.0, 4100.0, 4105.0, 4110.0, 4115.0, 4120.0, 4125.0, 4130.0, 4135.0, 4140.0, 4145.0, 4150.0, 4155.0, 4160.0, 4165.0, 4170.0, 4175.0, 4180.0, 4185.0, 4190.0, 4195.0, 4200.0, 4205.0, 4210.0, 4215.0, 4220.0, 4225.0, 4230.0, 4235.0, 4240.0, 4245.0, 4250.0, 4255.0, 4260.0, 4265.0, 4270.0, 4275.0, 4280.0, 4285.0, 4290.0, 4295.0, 4300.0, 4305.0, 4310.0, 4315.0, 4320.0, 4325.0, 4330.0, 4335.0, 4340.0, 4345.0, 4350.0, 4355.0, 4360.0, 4365.0, 4370.0, 4375.0, 4380.0, 4385.0, 4390.0, 4395.0, 4400.0, 4405.0, 4410.0, 4415.0, 4420.0, 4425.0, 4430.0, 4435.0, 4440.0, 4445.0, 4450.0, 4455.0, 4460.0, 4465.0, 4470.0, 4475.0, 4480.0, 4490.0, 4500.0, 4510.0, 4520.0, 4525.0, 4530.0, 4540.0, 4550.0, 4560.0, 4570.0, 4575.0, 4580.0, 4590.0, 4600.0, 4610.0, 4625.0, 4650.0, 4675.0, 4700.0, 4725.0, 4750.0, 4775.0, 4800.0, 4850.0, 4900.0, 4950.0, 5000.0, 5100.0, 5200.0, 5300.0, 5400.0, 5500.0, 5600.0, 5700.0, 5800.0, 5900.0, 6000.0, 6100.0, 6200.0, 6300.0, 6400.0, 6500.0, 6600.0, 6700.0, 6800.0, 6900.0, 7000.0, 7100.0, 7200.0, 7300.0])"
      ]
     },
     "execution_count": 7,
     "metadata": {},
     "output_type": "execute_result"
    }
   ],
   "source": [
    "chain = next(c for c in chains if c.tradingClass == 'SPX' and c.exchange == 'SMART')\n",
    "chain"
   ]
  },
  {
   "cell_type": "markdown",
   "metadata": {},
   "source": [
    "What we have here is the full matrix of expirations x strikes. From this we can build all the option contracts that meet our conditions:"
   ]
  },
  {
   "cell_type": "code",
   "execution_count": 8,
   "metadata": {},
   "outputs": [
    {
     "name": "stderr",
     "output_type": "stream",
     "text": [
      "Error 200, reqId 18: No security definition has been found for the request, contract: Option(symbol='SPX', lastTradeDateOrContractMonth='20210715', strike=4185.0, right='P', exchange='SMART', tradingClass='SPX')\n",
      "Error 200, reqId 20: No security definition has been found for the request, contract: Option(symbol='SPX', lastTradeDateOrContractMonth='20210715', strike=4195.0, right='P', exchange='SMART', tradingClass='SPX')\n",
      "Error 200, reqId 22: No security definition has been found for the request, contract: Option(symbol='SPX', lastTradeDateOrContractMonth='20210715', strike=4205.0, right='P', exchange='SMART', tradingClass='SPX')\n",
      "Error 200, reqId 26: No security definition has been found for the request, contract: Option(symbol='SPX', lastTradeDateOrContractMonth='20210819', strike=4185.0, right='P', exchange='SMART', tradingClass='SPX')\n",
      "Error 200, reqId 28: No security definition has been found for the request, contract: Option(symbol='SPX', lastTradeDateOrContractMonth='20210819', strike=4195.0, right='P', exchange='SMART', tradingClass='SPX')\n",
      "Error 200, reqId 30: No security definition has been found for the request, contract: Option(symbol='SPX', lastTradeDateOrContractMonth='20210819', strike=4205.0, right='P', exchange='SMART', tradingClass='SPX')\n",
      "Error 200, reqId 42: No security definition has been found for the request, contract: Option(symbol='SPX', lastTradeDateOrContractMonth='20210715', strike=4185.0, right='C', exchange='SMART', tradingClass='SPX')\n",
      "Error 200, reqId 44: No security definition has been found for the request, contract: Option(symbol='SPX', lastTradeDateOrContractMonth='20210715', strike=4195.0, right='C', exchange='SMART', tradingClass='SPX')\n",
      "Error 200, reqId 46: No security definition has been found for the request, contract: Option(symbol='SPX', lastTradeDateOrContractMonth='20210715', strike=4205.0, right='C', exchange='SMART', tradingClass='SPX')\n",
      "Error 200, reqId 50: No security definition has been found for the request, contract: Option(symbol='SPX', lastTradeDateOrContractMonth='20210819', strike=4185.0, right='C', exchange='SMART', tradingClass='SPX')\n",
      "Error 200, reqId 52: No security definition has been found for the request, contract: Option(symbol='SPX', lastTradeDateOrContractMonth='20210819', strike=4195.0, right='C', exchange='SMART', tradingClass='SPX')\n",
      "Error 200, reqId 54: No security definition has been found for the request, contract: Option(symbol='SPX', lastTradeDateOrContractMonth='20210819', strike=4205.0, right='C', exchange='SMART', tradingClass='SPX')\n",
      "Unknown contract: Option(symbol='SPX', lastTradeDateOrContractMonth='20210715', strike=4185.0, right='P', exchange='SMART', tradingClass='SPX')\n",
      "Unknown contract: Option(symbol='SPX', lastTradeDateOrContractMonth='20210715', strike=4195.0, right='P', exchange='SMART', tradingClass='SPX')\n",
      "Unknown contract: Option(symbol='SPX', lastTradeDateOrContractMonth='20210715', strike=4205.0, right='P', exchange='SMART', tradingClass='SPX')\n",
      "Unknown contract: Option(symbol='SPX', lastTradeDateOrContractMonth='20210819', strike=4185.0, right='P', exchange='SMART', tradingClass='SPX')\n",
      "Unknown contract: Option(symbol='SPX', lastTradeDateOrContractMonth='20210819', strike=4195.0, right='P', exchange='SMART', tradingClass='SPX')\n",
      "Unknown contract: Option(symbol='SPX', lastTradeDateOrContractMonth='20210819', strike=4205.0, right='P', exchange='SMART', tradingClass='SPX')\n",
      "Unknown contract: Option(symbol='SPX', lastTradeDateOrContractMonth='20210715', strike=4185.0, right='C', exchange='SMART', tradingClass='SPX')\n",
      "Unknown contract: Option(symbol='SPX', lastTradeDateOrContractMonth='20210715', strike=4195.0, right='C', exchange='SMART', tradingClass='SPX')\n",
      "Unknown contract: Option(symbol='SPX', lastTradeDateOrContractMonth='20210715', strike=4205.0, right='C', exchange='SMART', tradingClass='SPX')\n",
      "Unknown contract: Option(symbol='SPX', lastTradeDateOrContractMonth='20210819', strike=4185.0, right='C', exchange='SMART', tradingClass='SPX')\n",
      "Unknown contract: Option(symbol='SPX', lastTradeDateOrContractMonth='20210819', strike=4195.0, right='C', exchange='SMART', tradingClass='SPX')\n",
      "Unknown contract: Option(symbol='SPX', lastTradeDateOrContractMonth='20210819', strike=4205.0, right='C', exchange='SMART', tradingClass='SPX')\n"
     ]
    },
    {
     "data": {
      "text/plain": [
       "36"
      ]
     },
     "execution_count": 8,
     "metadata": {},
     "output_type": "execute_result"
    }
   ],
   "source": [
    "strikes = [strike for strike in chain.strikes\n",
    "        if strike % 5 == 0\n",
    "        and spxValue - 20 < strike < spxValue + 20]\n",
    "expirations = sorted(exp for exp in chain.expirations)[:3]\n",
    "rights = ['P', 'C']\n",
    "\n",
    "contracts = [Option('SPX', expiration, strike, right, 'SMART', tradingClass='SPX')\n",
    "        for right in rights\n",
    "        for expiration in expirations\n",
    "        for strike in strikes]\n",
    "\n",
    "contracts = ib.qualifyContracts(*contracts)\n",
    "len(contracts)"
   ]
  },
  {
   "cell_type": "code",
   "execution_count": 9,
   "metadata": {},
   "outputs": [
    {
     "data": {
      "text/plain": [
       "Option(conId=458065953, symbol='SPX', lastTradeDateOrContractMonth='20210617', strike=4175.0, right='P', multiplier='100', exchange='SMART', currency='USD', localSymbol='SPX   210618P04175000', tradingClass='SPX')"
      ]
     },
     "execution_count": 9,
     "metadata": {},
     "output_type": "execute_result"
    }
   ],
   "source": [
    "contracts[0]"
   ]
  },
  {
   "cell_type": "markdown",
   "metadata": {},
   "source": [
    "Now to get the market data for all options in one go:"
   ]
  },
  {
   "cell_type": "code",
   "execution_count": 10,
   "metadata": {},
   "outputs": [
    {
     "data": {
      "text/plain": [
       "Ticker(contract=Option(conId=458065953, symbol='SPX', lastTradeDateOrContractMonth='20210617', strike=4175.0, right='P', multiplier='100', exchange='SMART', currency='USD', localSymbol='SPX   210618P04175000', tradingClass='SPX'), time=datetime.datetime(2021, 6, 6, 17, 12, 49, 984650, tzinfo=datetime.timezone.utc), bid=-1.0, bidSize=0, ask=-1.0, askSize=0, close=37.85)"
      ]
     },
     "execution_count": 10,
     "metadata": {},
     "output_type": "execute_result"
    }
   ],
   "source": [
    "tickers = ib.reqTickers(*contracts)\n",
    "\n",
    "tickers[0]"
   ]
  },
  {
   "cell_type": "code",
   "execution_count": 13,
   "metadata": {},
   "outputs": [
    {
     "data": {
      "text/plain": [
       "0"
      ]
     },
     "execution_count": 13,
     "metadata": {},
     "output_type": "execute_result"
    }
   ],
   "source": [
    "a = tickers[0]\n",
    "a.bidSize"
   ]
  },
  {
   "cell_type": "code",
   "execution_count": 16,
   "metadata": {},
   "outputs": [
    {
     "data": {
      "text/plain": [
       "Option(conId=458065953, symbol='SPX', lastTradeDateOrContractMonth='20210617', strike=4175.0, right='P', multiplier='100', exchange='SMART', currency='USD', localSymbol='SPX   210618P04175000', tradingClass='SPX')"
      ]
     },
     "execution_count": 16,
     "metadata": {},
     "output_type": "execute_result"
    }
   ],
   "source": [
    "a = contracts[0]\n",
    "a"
   ]
  },
  {
   "cell_type": "markdown",
   "metadata": {},
   "source": [
    "The option greeks are available from the ``modelGreeks`` attribute, and if there is a bid, ask resp. last price available also from ``bidGreeks``, ``askGreeks`` and ``lastGreeks``. For streaming ticks the greek values will be kept up to date to the current market situation."
   ]
  },
  {
   "cell_type": "code",
   "execution_count": 11,
   "metadata": {},
   "outputs": [],
   "source": [
    "ib.disconnect()"
   ]
  }
 ],
 "metadata": {
  "kernelspec": {
   "display_name": "Python 3",
   "language": "python",
   "name": "python3"
  },
  "language_info": {
   "codemirror_mode": {
    "name": "ipython",
    "version": 3
   },
   "file_extension": ".py",
   "mimetype": "text/x-python",
   "name": "python",
   "nbconvert_exporter": "python",
   "pygments_lexer": "ipython3",
   "version": "3.8.5"
  }
 },
 "nbformat": 4,
 "nbformat_minor": 4
}
