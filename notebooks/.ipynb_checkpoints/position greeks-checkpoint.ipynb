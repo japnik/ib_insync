{
 "cells": [
  {
   "cell_type": "code",
   "execution_count": 1,
   "metadata": {},
   "outputs": [],
   "source": [
    "import datetime as dt\n",
    "from ib_insync import *\n",
    "util.startLoop()"
   ]
  },
  {
   "cell_type": "code",
   "execution_count": 17,
   "metadata": {},
   "outputs": [],
   "source": [
    "import pandas as pd"
   ]
  },
  {
   "cell_type": "code",
   "execution_count": null,
   "metadata": {},
   "outputs": [],
   "source": [
    "ib = IB()\n",
    "ib.connect('127.0.0.1', 7497, clientId=22)"
   ]
  },
  {
   "cell_type": "code",
   "execution_count": 13,
   "metadata": {},
   "outputs": [],
   "source": [
    "#request all ticker at once in the beginning\n",
    "\n",
    "def GetCurrentPrice(contract):\n",
    "    temp_contract= contract\n",
    "    ib.qualifyContracts(temp_contract)\n",
    "    [ticker] = ib.reqTickers(temp_contract)\n",
    "    ib.sleep(1)\n",
    "    return ticker.marketPrice()\n",
    "\n",
    "    \n",
    "    \n",
    "def AddGreeks(contract, position, avg_cost):\n",
    "    greeks_dict = {}\n",
    "    greeks_dict['symbol'] = contract.symbol\n",
    "    if contract.secType != 'OPT':\n",
    "        greeks_dict['delta'] = position\n",
    "        greeks_dict['cash_delta'] = position * GetCurrentPrice(contract)\n",
    "        greeks_dict['expiry'] = dt.date(1900,1,1)\n",
    "        greeks_dict['strike'] = 0\n",
    "        greeks_dict['kind'] = \"spot\"\n",
    "        greeks_dict['vega'] = 0\n",
    "        greeks_dict['gamma'] = 0\n",
    "        greeks_dict['theta'] = 0\n",
    "        greeks_dict['weighted_vega'] = 0\n",
    "        greeks_dict['cash_gamma'] = 0\n",
    "        greeks_dict['avg_cost'] = avg_cost\n",
    "    else:\n",
    "        [ticker] = ib.reqTickers(contract)\n",
    "        ib.sleep(1)\n",
    "#         print(ticker)\n",
    "        greeks_dict['delta'] = ticker.\n",
    "        greeks_dict['cash_delta'] = position * GetCurrentPrice(contract)\n",
    "        greeks_dict['expiry'] = dt.date(1900,1,1)\n",
    "        greeks_dict['strike'] = 0\n",
    "        greeks_dict['kind'] = \"spot\"\n",
    "        greeks_dict['vega'] = 0\n",
    "        greeks_dict['gamma'] = 0\n",
    "        greeks_dict['theta'] = 0\n",
    "        greeks_dict['weighted_vega'] = 0\n",
    "        greeks_dict['cash_gamma'] = 0\n",
    "        greeks_dict['avg_cost'] = avg_cost\n",
    "#     print(greeks_dict)\n",
    "    return greeks_dict\n"
   ]
  },
  {
   "cell_type": "markdown",
   "metadata": {},
   "source": [
    "### Connecting\n",
    "The main player of the whole package is the \"IB\" class. Let's create an IB instance and connect to a running TWS/IBG application:"
   ]
  },
  {
   "cell_type": "code",
   "execution_count": null,
   "metadata": {
    "scrolled": true
   },
   "outputs": [],
   "source": []
  },
  {
   "cell_type": "code",
   "execution_count": 14,
   "metadata": {},
   "outputs": [],
   "source": [
    "all_positions = ib.positions()\n",
    "all_positions_dict_list = []"
   ]
  },
  {
   "cell_type": "code",
   "execution_count": 15,
   "metadata": {},
   "outputs": [],
   "source": [
    "option_positions = [x for x in all_positions if x.contract.secType== 'OPT']"
   ]
  },
  {
   "cell_type": "code",
   "execution_count": null,
   "metadata": {},
   "outputs": [],
   "source": []
  },
  {
   "cell_type": "code",
   "execution_count": 11,
   "metadata": {},
   "outputs": [
    {
     "name": "stdout",
     "output_type": "stream",
     "text": [
      "AMC\n",
      "8.0 position\n",
      "Ticker(contract=Option(conId=494401891, symbol='AMC', lastTradeDateOrContractMonth='20210618', strike=73.0, right='C', multiplier='100', exchange='SMART', currency='USD', localSymbol='AMC   210618C00073000', tradingClass='AMC'), time=datetime.datetime(2021, 6, 7, 1, 36, 2, 30092, tzinfo=datetime.timezone.utc), bid=-1.0, bidSize=0, ask=-1.0, askSize=0, close=13.64, halted=0.0)\n",
      "{'symbol': 'AMC', 'delta': 8.0, 'cash_delta': 109.12, 'expiry': datetime.date(1900, 1, 1), 'strike': 0, 'kind': 'spot', 'vega': 0, 'gamma': 0, 'theta': 0, 'weighted_vega': 0, 'cash_gamma': 0}\n",
      "AMC\n",
      "-10.0 position\n",
      "Ticker(contract=Option(conId=468140064, symbol='AMC', lastTradeDateOrContractMonth='20210618', strike=30.0, right='P', multiplier='100', exchange='SMART', currency='USD', localSymbol='AMC   210618P00030000', tradingClass='AMC'), time=datetime.datetime(2021, 6, 7, 1, 36, 27, 174485, tzinfo=datetime.timezone.utc), bid=-1.0, bidSize=0, ask=-1.0, askSize=0, close=4.75, halted=0.0)\n",
      "{'symbol': 'AMC', 'delta': -10.0, 'cash_delta': -47.5, 'expiry': datetime.date(1900, 1, 1), 'strike': 0, 'kind': 'spot', 'vega': 0, 'gamma': 0, 'theta': 0, 'weighted_vega': 0, 'cash_gamma': 0}\n"
     ]
    }
   ],
   "source": [
    "list_of_pos_dict = []\n",
    "for position in option_positions[0:2]:\n",
    "    contract = position.contract\n",
    "    contract.exchange = 'SMART'\n",
    "    position_dict = AddGreeks(contract, position.position, position.avgCost )\n",
    "    list_of_pos_dict.append(position_dict)\n",
    "    \n"
   ]
  },
  {
   "cell_type": "code",
   "execution_count": 18,
   "metadata": {},
   "outputs": [],
   "source": [
    "df = pd.DataFrame(list_of_pos_dict)"
   ]
  },
  {
   "cell_type": "code",
   "execution_count": 19,
   "metadata": {},
   "outputs": [
    {
     "data": {
      "text/html": [
       "<div>\n",
       "<style scoped>\n",
       "    .dataframe tbody tr th:only-of-type {\n",
       "        vertical-align: middle;\n",
       "    }\n",
       "\n",
       "    .dataframe tbody tr th {\n",
       "        vertical-align: top;\n",
       "    }\n",
       "\n",
       "    .dataframe thead th {\n",
       "        text-align: right;\n",
       "    }\n",
       "</style>\n",
       "<table border=\"1\" class=\"dataframe\">\n",
       "  <thead>\n",
       "    <tr style=\"text-align: right;\">\n",
       "      <th></th>\n",
       "      <th>symbol</th>\n",
       "      <th>delta</th>\n",
       "      <th>cash_delta</th>\n",
       "      <th>expiry</th>\n",
       "      <th>strike</th>\n",
       "      <th>kind</th>\n",
       "      <th>vega</th>\n",
       "      <th>gamma</th>\n",
       "      <th>theta</th>\n",
       "      <th>weighted_vega</th>\n",
       "      <th>cash_gamma</th>\n",
       "    </tr>\n",
       "  </thead>\n",
       "  <tbody>\n",
       "    <tr>\n",
       "      <th>0</th>\n",
       "      <td>AMC</td>\n",
       "      <td>8.0</td>\n",
       "      <td>109.12</td>\n",
       "      <td>1900-01-01</td>\n",
       "      <td>0</td>\n",
       "      <td>spot</td>\n",
       "      <td>0</td>\n",
       "      <td>0</td>\n",
       "      <td>0</td>\n",
       "      <td>0</td>\n",
       "      <td>0</td>\n",
       "    </tr>\n",
       "    <tr>\n",
       "      <th>1</th>\n",
       "      <td>AMC</td>\n",
       "      <td>-10.0</td>\n",
       "      <td>-47.50</td>\n",
       "      <td>1900-01-01</td>\n",
       "      <td>0</td>\n",
       "      <td>spot</td>\n",
       "      <td>0</td>\n",
       "      <td>0</td>\n",
       "      <td>0</td>\n",
       "      <td>0</td>\n",
       "      <td>0</td>\n",
       "    </tr>\n",
       "  </tbody>\n",
       "</table>\n",
       "</div>"
      ],
      "text/plain": [
       "  symbol  delta  cash_delta      expiry  strike  kind  vega  gamma  theta  \\\n",
       "0    AMC    8.0      109.12  1900-01-01       0  spot     0      0      0   \n",
       "1    AMC  -10.0      -47.50  1900-01-01       0  spot     0      0      0   \n",
       "\n",
       "   weighted_vega  cash_gamma  \n",
       "0              0           0  \n",
       "1              0           0  "
      ]
     },
     "execution_count": 19,
     "metadata": {},
     "output_type": "execute_result"
    },
    {
     "name": "stderr",
     "output_type": "stream",
     "text": [
      "Peer closed connection.\n"
     ]
    }
   ],
   "source": [
    "df"
   ]
  }
 ],
 "metadata": {
  "kernelspec": {
   "display_name": "Python 3",
   "language": "python",
   "name": "python3"
  },
  "language_info": {
   "codemirror_mode": {
    "name": "ipython",
    "version": 3
   },
   "file_extension": ".py",
   "mimetype": "text/x-python",
   "name": "python",
   "nbconvert_exporter": "python",
   "pygments_lexer": "ipython3",
   "version": "3.8.5"
  }
 },
 "nbformat": 4,
 "nbformat_minor": 4
}
