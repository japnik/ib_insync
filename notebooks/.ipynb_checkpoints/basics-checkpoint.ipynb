{
 "cells": [
  {
   "cell_type": "markdown",
   "metadata": {},
   "source": [
    "# Basics\n",
    "\n",
    "Let's first take a look at what's inside the ``ib_insync`` package:"
   ]
  },
  {
   "cell_type": "code",
   "execution_count": 1,
   "metadata": {},
   "outputs": [
    {
     "name": "stdout",
     "output_type": "stream",
     "text": [
      "['util', 'Event', 'SoftDollarTier', 'PriceIncrement', 'Execution', 'CommissionReport', 'BarDataList', 'RealTimeBarList', 'BarData', 'RealTimeBar', 'HistogramData', 'NewsProvider', 'DepthMktDataDescription', 'ScannerSubscription', 'ScanDataList', 'FundamentalRatios', 'ExecutionFilter', 'PnL', 'PnLSingle', 'AccountValue', 'TickData', 'TickByTickAllLast', 'TickByTickBidAsk', 'TickByTickMidPoint', 'HistoricalTick', 'HistoricalTickBidAsk', 'HistoricalTickLast', 'TickAttrib', 'TickAttribBidAsk', 'TickAttribLast', 'MktDepthData', 'DOMLevel', 'TradeLogEntry', 'FamilyCode', 'SmartComponent', 'PortfolioItem', 'Position', 'Fill', 'OptionComputation', 'OptionChain', 'Dividends', 'NewsArticle', 'HistoricalNews', 'NewsTick', 'NewsBulletin', 'ConnectionStats', 'Contract', 'Stock', 'Option', 'Future', 'ContFuture', 'Forex', 'Index', 'CFD', 'Commodity', 'Bond', 'FuturesOption', 'MutualFund', 'Warrant', 'Bag', 'TagValue', 'ComboLeg', 'DeltaNeutralContract', 'ContractDetails', 'ContractDescription', 'ScanData', 'Trade', 'Order', 'OrderStatus', 'OrderState', 'OrderComboLeg', 'LimitOrder', 'MarketOrder', 'StopOrder', 'StopLimitOrder', 'BracketOrder', 'OrderCondition', 'ExecutionCondition', 'MarginCondition', 'TimeCondition', 'PriceCondition', 'PercentChangeCondition', 'VolumeCondition', 'Ticker', 'IB', 'Client', 'RequestError', 'Wrapper', 'FlexReport', 'FlexError', 'IBC', 'IBController', 'Watchdog']\n"
     ]
    }
   ],
   "source": [
    "import ib_insync\n",
    "print(ib_insync.__all__)"
   ]
  },
  {
   "cell_type": "markdown",
   "metadata": {},
   "source": [
    "### Importing\n",
    "The following two lines are used at the top of all notebooks. The first line imports everything and the second\n",
    "starts an event loop to keep the notebook live updated:"
   ]
  },
  {
   "cell_type": "code",
   "execution_count": 2,
   "metadata": {},
   "outputs": [],
   "source": [
    "from ib_insync import *\n",
    "util.startLoop()"
   ]
  },
  {
   "cell_type": "markdown",
   "metadata": {},
   "source": [
    "*Note that startLoop() only works in notebooks, not in regular Python programs.*"
   ]
  },
  {
   "cell_type": "markdown",
   "metadata": {},
   "source": [
    "### Connecting\n",
    "The main player of the whole package is the \"IB\" class. Let's create an IB instance and connect to a running TWS/IBG application:"
   ]
  },
  {
   "cell_type": "code",
   "execution_count": 3,
   "metadata": {
    "scrolled": true
   },
   "outputs": [
    {
     "data": {
      "text/plain": [
       "<IB connected to 127.0.0.1:7497 clientId=10>"
      ]
     },
     "execution_count": 3,
     "metadata": {},
     "output_type": "execute_result"
    }
   ],
   "source": [
    "ib = IB()\n",
    "ib.connect('127.0.0.1', 7497, clientId=10)"
   ]
  },
  {
   "cell_type": "markdown",
   "metadata": {},
   "source": [
    "If the connection failed, then verify that the application has the API port enabled and double-check the hostname and port. For IB Gateway the default port is 4002. Make sure the clientId is not already in use.\n",
    "\n",
    "If the connection succeeded, then ib will be synchronized with TWS/IBG. The \"current state\" is now available via methods such as ib.positions(), ib.trades(), ib.openTrades(), ib.accountValues() or ib.tickers(). Let's list the current positions:"
   ]
  },
  {
   "cell_type": "code",
   "execution_count": 4,
   "metadata": {},
   "outputs": [
    {
     "data": {
      "text/plain": [
       "[Position(account='U1339450', contract=Stock(conId=79020263, symbol='VTWO', exchange='NASDAQ', currency='USD', localSymbol='VTWO', tradingClass='NMS'), position=3000.0, avgCost=90.4025),\n",
       " Position(account='U1339450', contract=Stock(conId=393897513, symbol='VIAC', exchange='NASDAQ', currency='USD', localSymbol='VIAC', tradingClass='NMS'), position=400.0, avgCost=44.76),\n",
       " Position(account='U1339450', contract=Stock(conId=9579970, symbol='IWM', exchange='ARCA', currency='USD', localSymbol='IWM', tradingClass='IWM'), position=1180.0, avgCost=216.6381356),\n",
       " Position(account='U1339450', contract=Stock(conId=470662741, symbol='CHPT', exchange='NYSE', currency='USD', localSymbol='CHPT', tradingClass='CHPT'), position=325.0, avgCost=31.08384615),\n",
       " Position(account='U1339450', contract=Forex('EURUSD', conId=12087792, localSymbol='EUR.USD', tradingClass='EUR.USD'), position=715000.0, avgCost=1.1128729),\n",
       " Position(account='U1339450', contract=Stock(conId=265598, symbol='AAPL', exchange='NASDAQ', currency='USD', localSymbol='AAPL', tradingClass='NMS'), position=1050.0, avgCost=75.6022222),\n",
       " Position(account='U1339450', contract=Stock(conId=5222, symbol='BRK A', exchange='NYSE', currency='USD', localSymbol='BRK A', tradingClass='BRK A'), position=2.0, avgCost=382511.0),\n",
       " Position(account='U1339450', contract=Stock(conId=79498203, symbol='UAL', exchange='NASDAQ', currency='USD', localSymbol='UAL', tradingClass='NMS'), position=300.0, avgCost=34.218),\n",
       " Position(account='U1339450', contract=Option(conId=494401891, symbol='AMC', lastTradeDateOrContractMonth='20210618', strike=73.0, right='C', multiplier='100', currency='USD', localSymbol='AMC   210618C00073000', tradingClass='AMC'), position=8.0, avgCost=1523.4189125),\n",
       " Position(account='U1339450', contract=Stock(conId=44652220, symbol='DFS', exchange='NYSE', currency='USD', localSymbol='DFS', tradingClass='DFS'), position=500.0, avgCost=31.355),\n",
       " Position(account='U1339450', contract=Stock(conId=190480975, symbol='VIRT', exchange='NASDAQ', currency='USD', localSymbol='VIRT', tradingClass='NMS'), position=1800.0, avgCost=23.49055555),\n",
       " Position(account='U1339450', contract=Stock(conId=344809106, symbol='MRNA', exchange='NASDAQ', currency='USD', localSymbol='MRNA', tradingClass='NMS'), position=75.0, avgCost=21.7025),\n",
       " Position(account='U1339450', contract=Stock(conId=290651477, symbol='ROKU', exchange='NASDAQ', currency='USD', localSymbol='ROKU', tradingClass='NMS'), position=730.0, avgCost=312.10534245),\n",
       " Position(account='U1339450', contract=Stock(conId=76792991, symbol='TSLA', exchange='NASDAQ', currency='USD', localSymbol='TSLA', tradingClass='NMS'), position=70.0, avgCost=554.12257145),\n",
       " Position(account='U1339450', contract=Stock(conId=6459, symbol='DIS', exchange='NYSE', currency='USD', localSymbol='DIS', tradingClass='DIS'), position=140.0, avgCost=136.19857145),\n",
       " Position(account='U1339450', contract=Stock(conId=4901, symbol='VZ', exchange='NYSE', currency='USD', localSymbol='VZ', tradingClass='VZ'), position=1400.0, avgCost=55.865),\n",
       " Position(account='U1339450', contract=Stock(conId=110619459, symbol='PANW', exchange='NYSE', currency='USD', localSymbol='PANW', tradingClass='PANW'), position=100.0, avgCost=158.01),\n",
       " Position(account='U1339450', contract=Stock(conId=172522644, symbol='ARKK', exchange='ARCA', currency='USD', localSymbol='ARKK', tradingClass='ARKK'), position=500.0, avgCost=117.206),\n",
       " Position(account='U1339450', contract=Stock(conId=272093, symbol='MSFT', exchange='NASDAQ', currency='USD', localSymbol='MSFT', tradingClass='NMS'), position=700.0, avgCost=206.85285715),\n",
       " Position(account='U1339450', contract=Stock(conId=172522641, symbol='ARKG', exchange='BATS', currency='USD', localSymbol='ARKG', tradingClass='ARKG'), position=500.0, avgCost=91.245),\n",
       " Position(account='U1339450', contract=Stock(conId=1520593, symbol='JPM', exchange='NYSE', currency='USD', localSymbol='JPM', tradingClass='JPM'), position=300.0, avgCost=103.54375),\n",
       " Position(account='U1339450', contract=Option(conId=468140064, symbol='AMC', lastTradeDateOrContractMonth='20210618', strike=30.0, right='P', multiplier='100', currency='USD', localSymbol='AMC   210618P00030000', tradingClass='AMC'), position=-10.0, avgCost=449.29791),\n",
       " Position(account='U1339450', contract=Stock(conId=136155102, symbol='VOO', exchange='ARCA', currency='USD', localSymbol='VOO', tradingClass='VOO'), position=450.0, avgCost=352.84525555),\n",
       " Position(account='U1339450', contract=Stock(conId=107113386, symbol='FB', exchange='NASDAQ', currency='USD', localSymbol='FB', tradingClass='NMS'), position=709.0, avgCost=217.22808535),\n",
       " Position(account='U1339450', contract=Stock(conId=198563873, symbol='TDOC', exchange='NYSE', currency='USD', localSymbol='TDOC', tradingClass='TDOC'), position=100.0, avgCost=181.27),\n",
       " Position(account='U1339450', contract=Stock(conId=168647416, symbol='ARKW', exchange='ARCA', currency='USD', localSymbol='ARKW', tradingClass='ARKW'), position=200.0, avgCost=152.105),\n",
       " Position(account='U1339450', contract=Option(conId=494402696, symbol='AMC', lastTradeDateOrContractMonth='20210716', strike=60.0, right='C', multiplier='100', currency='USD', localSymbol='AMC   210716C00060000', tradingClass='AMC'), position=5.0, avgCost=2352.1718),\n",
       " Position(account='U1339450', contract=Option(conId=495048824, symbol='AMC', lastTradeDateOrContractMonth='20210618', strike=145.0, right='C', multiplier='100', currency='USD', localSymbol='AMC   210618C00145000', tradingClass='AMC'), position=-30.0, avgCost=850.23586),\n",
       " Position(account='U1339450', contract=Stock(conId=320227571, symbol='QQQ', exchange='NASDAQ', currency='USD', localSymbol='QQQ', tradingClass='NMS'), position=850.0, avgCost=313.8947059),\n",
       " Position(account='U1339450', contract=Option(conId=491441066, symbol='ROKU', lastTradeDateOrContractMonth='20210917', strike=260.0, right='P', multiplier='100', currency='USD', localSymbol='ROKU  210917P00260000', tradingClass='ROKU'), position=-3.0, avgCost=1049.28483335),\n",
       " Position(account='U1339450', contract=Stock(conId=139673266, symbol='AAL', exchange='NASDAQ', currency='USD', localSymbol='AAL', tradingClass='NMS'), position=300.0, avgCost=11.005),\n",
       " Position(account='U1339450', contract=Stock(conId=208813720, symbol='GOOG', exchange='NASDAQ', currency='USD', localSymbol='GOOG', tradingClass='NMS'), position=15.0, avgCost=1275.955),\n",
       " Position(account='U1339450', contract=Stock(conId=140070600, symbol='AMC', exchange='NYSE', currency='USD', localSymbol='AMC', tradingClass='AMC'), position=100.0, avgCost=52.0),\n",
       " Position(account='U1339450', contract=Stock(conId=52424577, symbol='ATVI', exchange='NASDAQ', currency='USD', localSymbol='ATVI', tradingClass='NMS'), position=100.0, avgCost=55.49),\n",
       " Position(account='U1339450', contract=Stock(conId=3691937, symbol='AMZN', exchange='NASDAQ', currency='USD', localSymbol='AMZN', tradingClass='NMS'), position=68.0, avgCost=2519.8381897),\n",
       " Position(account='U1339450', contract=Stock(conId=31230302, symbol='VNQ', exchange='ARCA', currency='USD', localSymbol='VNQ', tradingClass='VNQ'), position=100.0, avgCost=79.888355),\n",
       " Position(account='U1339450', contract=Stock(conId=72063691, symbol='BRK B', exchange='NYSE', currency='USD', localSymbol='BRK B', tradingClass='BRK B'), position=20.0, avgCost=263.76),\n",
       " Position(account='U1339450', contract=Stock(conId=8894, symbol='KO', exchange='NYSE', currency='USD', localSymbol='KO', tradingClass='KO'), position=200.0, avgCost=50.895),\n",
       " Position(account='U1339450', contract=Stock(conId=14077037, symbol='VXF', exchange='ARCA', currency='USD', localSymbol='VXF', tradingClass='VXF'), position=500.0, avgCost=176.815),\n",
       " Position(account='U1339450', contract=Stock(conId=352320856, symbol='ARKF', exchange='ARCA', currency='USD', localSymbol='ARKF', tradingClass='ARKF'), position=500.0, avgCost=53.355),\n",
       " Position(account='U1339450', contract=Option(conId=495051300, symbol='AMC', lastTradeDateOrContractMonth='20210716', strike=145.0, right='C', multiplier='100', currency='USD', localSymbol='AMC   210716C00145000', tradingClass='AMC'), position=-15.0, avgCost=1495.08524),\n",
       " Position(account='U5851182', contract=Stock(conId=9579970, symbol='IWM', exchange='ARCA', currency='USD', localSymbol='IWM', tradingClass='IWM'), position=25.0, avgCost=222.63),\n",
       " Position(account='U5851182', contract=Stock(conId=320227571, symbol='QQQ', exchange='NASDAQ', currency='USD', localSymbol='QQQ', tradingClass='NMS'), position=20.0, avgCost=314.36)]"
      ]
     },
     "execution_count": 4,
     "metadata": {},
     "output_type": "execute_result"
    }
   ],
   "source": [
    "ib.positions()"
   ]
  },
  {
   "cell_type": "markdown",
   "metadata": {},
   "source": [
    "Or filter the account values to get the liquidation value:"
   ]
  },
  {
   "cell_type": "code",
   "execution_count": 5,
   "metadata": {},
   "outputs": [
    {
     "data": {
      "text/plain": [
       "[AccountValue(account='U1339450', tag='NetLiquidationByCurrency', value='4027538', currency='BASE', modelCode=''),\n",
       " AccountValue(account='U5801483', tag='NetLiquidationByCurrency', value='0', currency='BASE', modelCode=''),\n",
       " AccountValue(account='U5851182', tag='NetLiquidationByCurrency', value='12536', currency='BASE', modelCode='')]"
      ]
     },
     "execution_count": 5,
     "metadata": {},
     "output_type": "execute_result"
    }
   ],
   "source": [
    "[v for v in ib.accountValues() if v.tag == 'NetLiquidationByCurrency' and v.currency == 'BASE']"
   ]
  },
  {
   "cell_type": "markdown",
   "metadata": {},
   "source": [
    "The \"current state\" will automatically be kept in sync with TWS/IBG. So an order fill will be added as soon as it is reported, or account values will be updated as soon as they change in TWS."
   ]
  },
  {
   "cell_type": "markdown",
   "metadata": {},
   "source": [
    "### Contracts\n",
    "\n",
    "Contracts can be specified in different ways:\n",
    "* The ibapi way, by creating an empty Contract object and setting its attributes one by one;\n",
    "* By using Contract and giving the attributes as keyword argument;\n",
    "* By using the specialized Stock, Option, Future, Forex, Index, CFD, Commodity,\n",
    "  Bond, FuturesOption, MutualFund or Warrant contracts.\n",
    "\n",
    "Some examples:"
   ]
  },
  {
   "cell_type": "code",
   "execution_count": 6,
   "metadata": {},
   "outputs": [],
   "source": [
    "Contract(conId=270639)\n",
    "Stock('AMD', 'SMART', 'USD')\n",
    "Stock('INTC', 'SMART', 'USD', primaryExchange='NASDAQ')\n",
    "Forex('EURUSD')\n",
    "CFD('IBUS30')\n",
    "Future('ES', '20180921', 'GLOBEX')\n",
    "Option('SPY', '20170721', 240, 'C', 'SMART')\n",
    "Bond(secIdType='ISIN', secId='US03076KAA60');"
   ]
  },
  {
   "cell_type": "markdown",
   "metadata": {},
   "source": [
    "### Sending a request\n",
    "\n",
    "The IB class has nearly all request methods that the IB API offers. The methods that return a result will block until finished and then return the result. Take for example reqContractDetails:"
   ]
  },
  {
   "cell_type": "code",
   "execution_count": 7,
   "metadata": {},
   "outputs": [
    {
     "data": {
      "text/plain": [
       "[ContractDetails(contract=Contract(secType='STK', conId=140070600, symbol='AMC', exchange='SMART', primaryExchange='NYSE', currency='USD', localSymbol='AMC', tradingClass='AMC'), marketName='AMC', minTick=0.0001, orderTypes='ACTIVETIM,AD,ADJUST,ALERT,ALGO,ALLOC,AON,AVGCOST,BASKET,BENCHPX,CASHQTY,COND,CONDORDER,DARKONLY,DARKPOLL,DAY,DEACT,DEACTDIS,DEACTEOD,DIS,DUR,GAT,GTC,GTD,GTT,HID,IBKRATS,ICE,IMB,IOC,LIT,LMT,LOC,MIDPX,MIT,MKT,MOC,MTL,NGCOMB,NODARK,NONALGO,OCA,OPG,OPGREROUT,PEGBENCH,POSTONLY,PREOPGRTH,PRICECHK,REL,RELPCTOFS,RPI,RTH,RTHIGNOPG,SCALE,SCALEODD,SCALERST,SIZECHK,SNAPMID,SNAPMKT,SNAPREL,STP,STPLMT,SWEEP,TRAIL,TRAILLIT,TRAILLMT,TRAILMIT,WHATIF', validExchanges='SMART,AMEX,NYSE,CBOE,PHLX,ISE,CHX,ARCA,ISLAND,DRCTEDGE,BEX,BATS,EDGEA,CSFBALGO,JEFFALGO,BYX,IEX,EDGX,FOXRIVER,PEARL,NYSENAT,LTSE,MEMX,PSX', priceMagnifier=1, underConId=0, longName='AMC ENTERTAINMENT HLDS-CL A', contractMonth='', industry='Consumer, Cyclical', category='Entertainment', subcategory='Theaters', timeZoneId='US/Eastern', tradingHours='20210606:CLOSED;20210607:0400-20210607:2000;20210608:0400-20210608:2000;20210609:0400-20210609:2000;20210610:0400-20210610:2000;20210611:0400-20210611:2000', liquidHours='20210606:CLOSED;20210607:0930-20210607:1600;20210608:0930-20210608:1600;20210609:0930-20210609:1600;20210610:0930-20210610:1600;20210611:0930-20210611:1600', evRule='', evMultiplier=0, mdSizeMultiplier=100, aggGroup=1, underSymbol='', underSecType='', marketRuleIds='557,557,557,557,557,557,557,557,557,557,557,557,557,557,557,557,557,557,557,557,557,557,557,557', secIdList=[TagValue(tag='ISIN', value='US00165C1045')], realExpirationDate='', lastTradeTime='', stockType='COMMON', cusip='', ratings='', descAppend='', bondType='', couponType='', callable=False, putable=False, coupon=0, convertible=False, maturity='', issueDate='', nextOptionDate='', nextOptionType='', nextOptionPartial=False, notes='')]"
      ]
     },
     "execution_count": 7,
     "metadata": {},
     "output_type": "execute_result"
    }
   ],
   "source": [
    "contract = Stock('AMC', 'SMART', 'USD')\n",
    "ib.reqContractDetails(contract)"
   ]
  },
  {
   "cell_type": "markdown",
   "metadata": {},
   "source": [
    "### Current state vs request\n",
    "\n",
    "Doing a request involves network traffic going up and down and can take considerable time. The current state on the other hand is always immediately available. So it is preferable to use the current state methods over requests. For example, use ``ib.openOrders()`` in preference over ``ib.reqOpenOrders()``, or ``ib.positions()`` over ``ib.reqPositions()``, etc:"
   ]
  },
  {
   "cell_type": "code",
   "execution_count": 8,
   "metadata": {},
   "outputs": [
    {
     "name": "stdout",
     "output_type": "stream",
     "text": [
      "Wall time: 0 ns\n"
     ]
    }
   ],
   "source": [
    "%time l = ib.positions()"
   ]
  },
  {
   "cell_type": "code",
   "execution_count": 9,
   "metadata": {},
   "outputs": [
    {
     "name": "stdout",
     "output_type": "stream",
     "text": [
      "Wall time: 9.48 ms\n"
     ]
    }
   ],
   "source": [
    "%time l = ib.reqPositions()"
   ]
  },
  {
   "cell_type": "markdown",
   "metadata": {},
   "source": [
    "### Logging\n",
    "\n",
    "The following will put log messages of INFO and higher level under the current active cell:"
   ]
  },
  {
   "cell_type": "code",
   "execution_count": 10,
   "metadata": {},
   "outputs": [],
   "source": [
    "util.logToConsole()"
   ]
  },
  {
   "cell_type": "markdown",
   "metadata": {},
   "source": [
    "To see all debug messages (including network traffic):"
   ]
  },
  {
   "cell_type": "code",
   "execution_count": 11,
   "metadata": {},
   "outputs": [],
   "source": [
    "import logging\n",
    "util.logToConsole(logging.DEBUG)"
   ]
  },
  {
   "cell_type": "markdown",
   "metadata": {},
   "source": [
    "### Disconnecting\n",
    "\n",
    "The following will disconnect ``ib`` and clear all its state:"
   ]
  },
  {
   "cell_type": "code",
   "execution_count": 12,
   "metadata": {},
   "outputs": [
    {
     "name": "stderr",
     "output_type": "stream",
     "text": [
      "2021-06-06 13:06:40,838 ib_insync.ib INFO Disconnecting from 127.0.0.1:7497, 188 B sent in 10 messages, 30.6 kB received in 565 messages, session time 70.8 s.\n",
      "2021-06-06 13:06:40,839 ib_insync.client INFO Disconnecting\n",
      "2021-06-06 13:06:40,858 ib_insync.client INFO Disconnected.\n"
     ]
    }
   ],
   "source": [
    "ib.disconnect()"
   ]
  },
  {
   "cell_type": "code",
   "execution_count": null,
   "metadata": {},
   "outputs": [],
   "source": []
  }
 ],
 "metadata": {
  "kernelspec": {
   "display_name": "Python 3",
   "language": "python",
   "name": "python3"
  },
  "language_info": {
   "codemirror_mode": {
    "name": "ipython",
    "version": 3
   },
   "file_extension": ".py",
   "mimetype": "text/x-python",
   "name": "python",
   "nbconvert_exporter": "python",
   "pygments_lexer": "ipython3",
   "version": "3.8.5"
  }
 },
 "nbformat": 4,
 "nbformat_minor": 4
}
